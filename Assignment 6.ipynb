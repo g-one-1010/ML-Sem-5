{
 "cells": [
  {
   "cell_type": "code",
   "execution_count": 1,
   "metadata": {},
   "outputs": [],
   "source": [
    "import numpy as np\n",
    "import pandas as pd\n",
    "import math"
   ]
  },
  {
   "cell_type": "markdown",
   "metadata": {},
   "source": [
    "# Question 1"
   ]
  },
  {
   "cell_type": "code",
   "execution_count": 2,
   "metadata": {},
   "outputs": [
    {
     "data": {
      "text/html": [
       "<div>\n",
       "<style scoped>\n",
       "    .dataframe tbody tr th:only-of-type {\n",
       "        vertical-align: middle;\n",
       "    }\n",
       "\n",
       "    .dataframe tbody tr th {\n",
       "        vertical-align: top;\n",
       "    }\n",
       "\n",
       "    .dataframe thead th {\n",
       "        text-align: right;\n",
       "    }\n",
       "</style>\n",
       "<table border=\"1\" class=\"dataframe\">\n",
       "  <thead>\n",
       "    <tr style=\"text-align: right;\">\n",
       "      <th></th>\n",
       "      <th>label</th>\n",
       "      <th>message</th>\n",
       "    </tr>\n",
       "  </thead>\n",
       "  <tbody>\n",
       "    <tr>\n",
       "      <th>0</th>\n",
       "      <td>ham</td>\n",
       "      <td>Go until jurong point, crazy.. Available only ...</td>\n",
       "    </tr>\n",
       "    <tr>\n",
       "      <th>1</th>\n",
       "      <td>ham</td>\n",
       "      <td>Ok lar... Joking wif u oni...</td>\n",
       "    </tr>\n",
       "    <tr>\n",
       "      <th>2</th>\n",
       "      <td>spam</td>\n",
       "      <td>Free entry in 2 a wkly comp to win FA Cup fina...</td>\n",
       "    </tr>\n",
       "    <tr>\n",
       "      <th>3</th>\n",
       "      <td>ham</td>\n",
       "      <td>U dun say so early hor... U c already then say...</td>\n",
       "    </tr>\n",
       "    <tr>\n",
       "      <th>4</th>\n",
       "      <td>ham</td>\n",
       "      <td>Nah I don't think he goes to usf, he lives aro...</td>\n",
       "    </tr>\n",
       "    <tr>\n",
       "      <th>...</th>\n",
       "      <td>...</td>\n",
       "      <td>...</td>\n",
       "    </tr>\n",
       "    <tr>\n",
       "      <th>5567</th>\n",
       "      <td>spam</td>\n",
       "      <td>This is the 2nd time we have tried 2 contact u...</td>\n",
       "    </tr>\n",
       "    <tr>\n",
       "      <th>5568</th>\n",
       "      <td>ham</td>\n",
       "      <td>Will ü b going to esplanade fr home?</td>\n",
       "    </tr>\n",
       "    <tr>\n",
       "      <th>5569</th>\n",
       "      <td>ham</td>\n",
       "      <td>Pity, * was in mood for that. So...any other s...</td>\n",
       "    </tr>\n",
       "    <tr>\n",
       "      <th>5570</th>\n",
       "      <td>ham</td>\n",
       "      <td>The guy did some bitching but I acted like i'd...</td>\n",
       "    </tr>\n",
       "    <tr>\n",
       "      <th>5571</th>\n",
       "      <td>ham</td>\n",
       "      <td>Rofl. Its true to its name</td>\n",
       "    </tr>\n",
       "  </tbody>\n",
       "</table>\n",
       "<p>5572 rows × 2 columns</p>\n",
       "</div>"
      ],
      "text/plain": [
       "     label                                            message\n",
       "0      ham  Go until jurong point, crazy.. Available only ...\n",
       "1      ham                      Ok lar... Joking wif u oni...\n",
       "2     spam  Free entry in 2 a wkly comp to win FA Cup fina...\n",
       "3      ham  U dun say so early hor... U c already then say...\n",
       "4      ham  Nah I don't think he goes to usf, he lives aro...\n",
       "...    ...                                                ...\n",
       "5567  spam  This is the 2nd time we have tried 2 contact u...\n",
       "5568   ham               Will ü b going to esplanade fr home?\n",
       "5569   ham  Pity, * was in mood for that. So...any other s...\n",
       "5570   ham  The guy did some bitching but I acted like i'd...\n",
       "5571   ham                         Rofl. Its true to its name\n",
       "\n",
       "[5572 rows x 2 columns]"
      ]
     },
     "execution_count": 2,
     "metadata": {},
     "output_type": "execute_result"
    }
   ],
   "source": [
    "columns = ['label', 'message']\n",
    "df = pd.read_table('./sms.tsv.txt',sep='\\t', names=columns)\n",
    "df"
   ]
  },
  {
   "cell_type": "code",
   "execution_count": 3,
   "metadata": {},
   "outputs": [
    {
     "data": {
      "text/plain": [
       "(5572, 2)"
      ]
     },
     "execution_count": 3,
     "metadata": {},
     "output_type": "execute_result"
    }
   ],
   "source": [
    "df.shape"
   ]
  },
  {
   "cell_type": "code",
   "execution_count": 4,
   "metadata": {},
   "outputs": [],
   "source": [
    "from nltk.corpus import stopwords\n",
    "stopWords = stopwords.words('english')\n",
    "from nltk.stem import PorterStemmer\n",
    "ps = PorterStemmer()"
   ]
  },
  {
   "cell_type": "code",
   "execution_count": 5,
   "metadata": {},
   "outputs": [],
   "source": [
    "def clean_data(txt):\n",
    "    lower = [word.lower() for word in txt.split()]\n",
    "    \n",
    "    cleaned_data = ' '.join([ps.stem(word) for word in lower if word.isalpha() and word not in stopWords])\n",
    "\n",
    "    return cleaned_data\n"
   ]
  },
  {
   "cell_type": "code",
   "execution_count": 6,
   "metadata": {},
   "outputs": [
    {
     "data": {
      "text/html": [
       "<div>\n",
       "<style scoped>\n",
       "    .dataframe tbody tr th:only-of-type {\n",
       "        vertical-align: middle;\n",
       "    }\n",
       "\n",
       "    .dataframe tbody tr th {\n",
       "        vertical-align: top;\n",
       "    }\n",
       "\n",
       "    .dataframe thead th {\n",
       "        text-align: right;\n",
       "    }\n",
       "</style>\n",
       "<table border=\"1\" class=\"dataframe\">\n",
       "  <thead>\n",
       "    <tr style=\"text-align: right;\">\n",
       "      <th></th>\n",
       "      <th>label</th>\n",
       "      <th>message</th>\n",
       "    </tr>\n",
       "  </thead>\n",
       "  <tbody>\n",
       "    <tr>\n",
       "      <th>0</th>\n",
       "      <td>ham</td>\n",
       "      <td>go jurong avail bugi n great world la e cine g...</td>\n",
       "    </tr>\n",
       "    <tr>\n",
       "      <th>1</th>\n",
       "      <td>ham</td>\n",
       "      <td>ok joke wif u</td>\n",
       "    </tr>\n",
       "    <tr>\n",
       "      <th>2</th>\n",
       "      <td>spam</td>\n",
       "      <td>free entri wkli comp win fa cup final tkt may ...</td>\n",
       "    </tr>\n",
       "    <tr>\n",
       "      <th>3</th>\n",
       "      <td>ham</td>\n",
       "      <td>u dun say earli u c alreadi</td>\n",
       "    </tr>\n",
       "    <tr>\n",
       "      <th>4</th>\n",
       "      <td>ham</td>\n",
       "      <td>nah think goe live around though</td>\n",
       "    </tr>\n",
       "    <tr>\n",
       "      <th>...</th>\n",
       "      <td>...</td>\n",
       "      <td>...</td>\n",
       "    </tr>\n",
       "    <tr>\n",
       "      <th>5567</th>\n",
       "      <td>spam</td>\n",
       "      <td>time tri contact u pound claim call per</td>\n",
       "    </tr>\n",
       "    <tr>\n",
       "      <th>5568</th>\n",
       "      <td>ham</td>\n",
       "      <td>ü b go esplanad fr</td>\n",
       "    </tr>\n",
       "    <tr>\n",
       "      <th>5569</th>\n",
       "      <td>ham</td>\n",
       "      <td>mood</td>\n",
       "    </tr>\n",
       "    <tr>\n",
       "      <th>5570</th>\n",
       "      <td>ham</td>\n",
       "      <td>guy bitch act like interest buy someth els nex...</td>\n",
       "    </tr>\n",
       "    <tr>\n",
       "      <th>5571</th>\n",
       "      <td>ham</td>\n",
       "      <td>true name</td>\n",
       "    </tr>\n",
       "  </tbody>\n",
       "</table>\n",
       "<p>5572 rows × 2 columns</p>\n",
       "</div>"
      ],
      "text/plain": [
       "     label                                            message\n",
       "0      ham  go jurong avail bugi n great world la e cine g...\n",
       "1      ham                                      ok joke wif u\n",
       "2     spam  free entri wkli comp win fa cup final tkt may ...\n",
       "3      ham                        u dun say earli u c alreadi\n",
       "4      ham                   nah think goe live around though\n",
       "...    ...                                                ...\n",
       "5567  spam            time tri contact u pound claim call per\n",
       "5568   ham                                 ü b go esplanad fr\n",
       "5569   ham                                               mood\n",
       "5570   ham  guy bitch act like interest buy someth els nex...\n",
       "5571   ham                                          true name\n",
       "\n",
       "[5572 rows x 2 columns]"
      ]
     },
     "execution_count": 6,
     "metadata": {},
     "output_type": "execute_result"
    }
   ],
   "source": [
    "for i in range(len(df)):\n",
    "    df['message'][i] = clean_data(df['message'][i])\n",
    "df"
   ]
  },
  {
   "cell_type": "code",
   "execution_count": 7,
   "metadata": {},
   "outputs": [
    {
     "name": "stdout",
     "output_type": "stream",
     "text": [
      "{'go': 1730, 'jurong': 2263, 'avail': 288, 'bugi': 575, 'great': 1790, 'world': 4838, 'la': 2342, 'cine': 765, 'got': 1760, 'amor': 136, 'ok': 2969, 'joke': 2239, 'wif': 4770, 'free': 1599, 'entri': 1332, 'wkli': 4809, 'comp': 835, 'win': 4780, 'fa': 1420, 'cup': 967, 'final': 1500, 'tkt': 4375, 'may': 2613, 'text': 4279, 'receiv': 3455, 'txt': 4499, 'appli': 192, 'dun': 1233, 'say': 3657, 'earli': 1246, 'alreadi': 118, 'nah': 2799, 'think': 4316, 'goe': 1734, 'live': 2452, 'around': 227, 'though': 4330, 'freemsg': 1604, 'hey': 1919, 'darl': 1000, 'word': 4833, 'like': 2427, 'fun': 1643, 'tb': 4239, 'xxx': 4885, 'std': 4044, 'chg': 734, 'rcv': 3432, 'even': 1366, 'brother': 554, 'speak': 3967, 'treat': 4455, 'aid': 84, 'per': 3126, 'request': 3513, 'mell': 2636, 'minnaminungint': 2680, 'nurungu': 2933, 'set': 3733, 'callertun': 622, 'press': 3288, 'copi': 895, 'friend': 1615, 'valu': 4599, 'network': 2853, 'custom': 975, 'select': 3708, 'receivea': 3456, 'prize': 3311, 'claim': 770, 'call': 617, 'code': 809, 'valid': 4598, 'hour': 1988, 'mobil': 2718, 'month': 2737, 'entitl': 1330, 'updat': 4560, 'latest': 2370, 'colour': 821, 'camera': 630, 'co': 800, 'gonna': 1747, 'home': 1958, 'soon': 3936, 'want': 4686, 'talk': 4217, 'stuff': 4102, 'anymor': 168, 'cri': 940, 'enough': 1325, 'six': 3850, 'chanc': 696, 'pound': 3253, 'send': 3718, 'cost': 904, 'tsandc': 4475, 'repli': 3509, 'hl': 1939, 'info': 2103, 'week': 4721, 'membership': 2640, 'lccltd': 2380, 'pobox': 3208, 'search': 3688, 'right': 3549, 'thank': 4290, 'promis': 3333, 'wont': 4825, 'take': 4214, 'help': 1910, 'grant': 1782, 'fulfil': 1641, 'wonder': 4824, 'bless': 458, 'date': 1006, 'sunday': 4135, 'use': 4581, 'click': 783, 'wap': 4687, 'link': 2439, 'next': 2864, 'messag': 2653, 'oh': 2964, 'watch': 4696, 'eh': 1279, 'rememb': 3497, 'spell': 3976, 'ye': 4906, 'naughti': 2821, 'make': 2566, 'fine': 1505, 'way': 4704, 'gota': 1761, 'england': 1318, 'macedonia': 2543, 'dont': 1172, 'miss': 2691, 'ur': 4567, 'nation': 2817, 'team': 4244, 'eg': 1275, 'scotland': 3674, 'serious': 3729, 'tri': 4459, 'ha': 1828, 'pay': 3109, 'first': 1512, 'da': 983, 'stock': 4061, 'aft': 69, 'finish': 1507, 'lunch': 2529, 'str': 4072, 'ard': 210, 'smth': 3895, 'alright': 119, 'meet': 2630, 'forc': 1565, 'eat': 1258, 'realli': 3446, 'hungri': 2014, 'mark': 2592, 'get': 1698, 'know': 2325, 'sick': 3816, 'turn': 4487, 'lol': 2472, 'alway': 124, 'catch': 670, 'bu': 568, 'fri': 1613, 'egg': 1277, 'left': 2391, 'dinner': 1115, 'feel': 1474, 'love': 2506, 'back': 317, 'pack': 3057, 'car': 648, 'let': 2407, 'room': 3577, 'vagu': 4595, 'wait': 4668, 'still': 4059, 'sure': 4154, 'sarcast': 3641, 'us': 4578, 'yeah': 4907, 'fallen': 1440, 'actin': 33, 'spoilt': 3995, 'child': 738, 'caught': 672, 'till': 4359, 'badli': 321, 'tell': 4257, 'anyth': 171, 'fear': 1467, 'faint': 1433, 'housework': 1990, 'quick': 3388, 'cuppa': 969, 'subscript': 4113, 'rington': 3553, 'uk': 4515, 'charg': 703, 'pleas': 3193, 'confirm': 863, 'look': 2482, 'time': 4361, 'msg': 2762, 'xuhui': 4881, 'learn': 2386, 'lesson': 2406, 'done': 1170, 'see': 3700, 'letter': 2408, 'saturday': 3652, 'decid': 1025, 'invit': 2148, 'pl': 3180, 'ahead': 81, 'abiola': 7, 'forget': 1570, 'need': 2837, 'crave': 931, 'sweet': 4178, 'arabian': 208, 'steed': 4048, 'mmmmmm': 2708, 'yummi': 4943, 'rodger': 3568, 'burn': 587, 'sm': 3879, 'nokia': 2891, 'deliveri': 1050, 'tomorrow': 4403, 'hope': 1973, 'man': 2574, 'well': 4732, 'hep': 1915, 'immunis': 2071, 'fair': 1434, 'tyler': 4505, 'could': 907, 'mayb': 2614, 'ask': 244, 'bit': 447, 'stubborn': 4093, 'kept': 2292, 'weak': 4705, 'hospit': 1981, 'saw': 3656, 'gram': 1776, 'usual': 4587, 'run': 3601, 'half': 1837, 'eighth': 1281, 'smarter': 3884, 'almost': 114, 'whole': 4764, 'second': 3692, 'fyi': 1656, 'ride': 3548, 'morn': 2742, 'crash': 930, 'place': 3181, 'tonight': 4409, 'never': 2855, 'realiz': 3445, 'embarass': 1300, 'thought': 4331, 'sinc': 3832, 'best': 415, 'seem': 3703, 'happi': 1857, 'sorri': 3945, 'ac': 16, 'new': 2857, 'jersey': 2219, 'devil': 1080, 'detroit': 1076, 'red': 3469, 'wing': 4784, 'play': 3188, 'ice': 2038, 'correct': 900, 'end': 1311, 'sptv': 4012, 'mallika': 2573, 'sherawat': 3765, 'find': 1504, 'year': 4908, 'special': 3968, 'cinema': 766, 'pass': 3096, 'suprman': 4152, 'etc': 1357, 'later': 2369, 'reach': 3436, 'sehwag': 3707, 'odi': 2951, 'pick': 3163, 'burger': 585, 'pain': 3062, 'kill': 2307, 'good': 1749, 'girl': 1713, 'situat': 3848, 'part': 3088, 'check': 717, 'iq': 2157, 'roommat': 3579, 'took': 4411, 'come': 825, 'lar': 2359, 'doubl': 1183, 'hair': 1835, 'dresser': 1202, 'said': 3618, 'wun': 4872, 'cut': 977, 'advis': 59, 'follow': 1553, 'recent': 3457, 'review': 3539, 'mob': 2715, 'award': 301, 'bonu': 489, 'today': 4385, 'dedic': 1030, 'song': 3932, 'valuabl': 4600, 'frnd': 1621, 'rpli': 3587, 'urgent': 4570, 'complimentari': 848, 'trip': 4461, 'eurodisinc': 1361, 'di': 1086, 'hear': 1891, 'plane': 3185, 'give': 1718, 'wah': 4664, 'lucki': 2523, 'save': 3655, 'class': 775, 'hi': 1921, 'babe': 312, 'im': 2063, 'wanna': 4684, 'xx': 4882, 'that': 4296, 'gentleman': 1690, 'digniti': 1108, 'peopl': 3125, 'shi': 3768, 'oper': 2998, 'much': 2769, 'earn': 1249, 'yup': 4949, 'real': 3441, 'ticket': 4352, 'one': 2983, 'jacket': 2184, 'start': 4035, 'came': 629, 'coin': 811, 'factori': 1427, 'gotta': 1765, 'cash': 665, 'ela': 1285, 'wen': 4735, 'stand': 4029, 'close': 787, 'anoth': 159, 'spent': 3978, 'late': 2367, 'afternoon': 70, 'casualti': 668, 'mean': 2618, 'includ': 2084, 'sheet': 3761, 'smile': 3889, 'pleasur': 3196, 'troubl': 4464, 'pour': 3254, 'rain': 3404, 'hurt': 2020, 'becoz': 380, 'someon': 3918, 'servic': 3732, 'repres': 3511, 'guarante': 1808, 'havent': 1877, 'plan': 3184, 'buy': 597, 'lido': 2416, 'show': 3801, 'work': 4834, 'simpli': 3829, 'password': 3099, 'usher': 4585, 'po': 3207, 'box': 512, 'telugu': 4260, 'abt': 13, 'load': 2458, 'loan': 2459, 'wk': 4806, 'hol': 1951, 'forgot': 1573, 'hairdress': 1836, 'appoint': 194, 'four': 1584, 'shower': 3802, 'caus': 673, 'prob': 3314, 'coffe': 810, 'anim': 152, 'noth': 2913, 'els': 1295, 'okay': 2970, 'name': 2805, 'price': 3299, 'long': 2478, 'ave': 292, 'am': 126, 'gone': 1746, 'drive': 1206, 'test': 4275, 'guess': 1813, 'gave': 1677, 'boston': 504, 'men': 2642, 'chang': 697, 'locat': 2462, 'someth': 3920, 'cuz': 981, 'signin': 3821, 'page': 3059, 'umma': 4519, 'life': 2418, 'vava': 4609, 'lot': 2494, 'dear': 1018, 'wish': 4792, 'birthday': 445, 'truli': 4470, 'hit': 1934, 'would': 4849, 'ip': 2153, 'address': 43, 'consid': 873, 'comput': 852, 'minecraft': 2677, 'server': 3731, 'grumpi': 1805, 'old': 2977, 'mom': 2728, 'better': 419, 'plural': 3203, 'noun': 2919, 'scare': 3662, 'contact': 877, 'last': 2365, 'weekend': 4723, 'draw': 1197, 'openin': 2997, 'sentenc': 3723, 'juz': 2268, 'tt': 4478, 'eatin': 1260, 'puttin': 3378, 'anythin': 173, 'enter': 1326, 'cabin': 607, 'pa': 3056, 'boss': 503, 'felt': 1478, 'askd': 245, 'went': 4738, 'winner': 4785, 'holiday': 1955, 'must': 2784, 'friday': 1614, 'ratio': 3425, 'tortilla': 4424, 'uncl': 4524, 'inform': 2104, 'school': 3668, 'account': 27, 'statement': 4039, 'unredeem': 4553, 'identifi': 2045, 'expir': 1408, 'caller': 621, 'landlin': 2352, 'malarki': 2570, 'voda': 4652, 'number': 2931, 'match': 2602, 'quot': 3395, 'standard': 4030, 'rate': 3423, 'app': 185, 'sao': 3635, 'mu': 2768, 'predict': 3274, 'wat': 4695, 'sent': 3722, 'money': 2732, 'bother': 506, 'involv': 2151, 'impos': 2075, 'del': 1044, 'sum': 4130, 'lucyxx': 2526, 'answer': 161, 'sunshin': 4140, 'quiz': 3393, 'top': 4417, 'soni': 3933, 'dvd': 1241, 'player': 3189, 'countri': 912, 'algarv': 105, 'ansr': 160, 'laid': 2348, 'dog': 1157, 'direct': 1118, 'join': 2238, 'largest': 2363, 'bt': 565, 'txting': 4502, 'gravel': 1787, 'haf': 1831, 'befor': 390, 'activ': 35, 'chat': 711, 'hardcor': 1862, 'age': 74, 'verifi': 4618, 'yr': 4942, 'lazi': 2379, 'pouch': 3252, 'swt': 4191, 'tire': 4366, 'littl': 2451, 'thing': 4315, 'lovabl': 2505, 'occupi': 2948, 'biggest': 432, 'gud': 1810, 'open': 2996, 'ya': 4893, 'dot': 1182, 'what': 4749, 'staff': 4023, 'femal': 1479, 'luv': 2532, 'netcollex': 2850, 'ltd': 2520, 'stop': 4065, 'begin': 392, 'qatar': 3380, 'pray': 3271, 'delet': 1046, 'sindu': 3834, 'job': 2233, 'birla': 441, 'soft': 3910, 'wine': 4783, 'flow': 1540, 'thk': 4321, 'plaza': 3192, 'typic': 4507, 'everywher': 1378, 'sometim': 3922, 'dream': 1199, 'without': 4800, 'chore': 757, 'joy': 2247, 'tv': 4489, 'hail': 1834, 'becom': 379, 'aaooooright': 3, 'leav': 2388, 'hous': 1989, 'interview': 2138, 'arrang': 230, 'keep': 2290, 'safe': 3614, 'envi': 1336, 'everyon': 1374, 'excit': 1397, 'day': 1010, 'spend': 3977, 'bootydeli': 498, 'bangbab': 337, 'order': 3013, 'download': 1190, 'goto': 1764, 'menu': 2646, 'point': 3214, 'cultur': 964, 'modul': 2724, 'avoid': 298, 'missunderstd': 2697, 'wit': 4796, 'belov': 405, 'fanci': 1445, 'bridg': 534, 'tomo': 4401, 'complet': 845, 'also': 121, 'utter': 4588, 'axi': 307, 'bank': 339, 'hop': 1972, 'muz': 2789, 'discuss': 1131, 'bloodi': 465, 'cant': 641, 'believ': 398, 'surnam': 4158, 'mr': 2757, 'ill': 2060, 'spanish': 3963, 'bath': 355, 'carlo': 657, 'stay': 4042, 'til': 4358, 'smoke': 3892, 'worth': 4843, 'doesnt': 1156, 'log': 2466, 'spoke': 3996, 'maneesha': 2579, 'satisfi': 3649, 'toll': 4397, 'lift': 2423, 'offer': 2957, 'especi': 1351, 'approach': 196, 'anyway': 176, 'trust': 4472, 'guy': 1821, 'hello': 1909, 'handsom': 1847, 'toward': 4435, 'net': 2849, 'mummi': 2778, 'boytoy': 515, 'haha': 1832, 'minut': 2683, 'freephon': 1605, 'xma': 4878, 'radio': 3398, 'ju': 2254, 'si': 3813, 'uniqu': 4543, 'leagu': 2385, 'deal': 1016, 'person': 3139, 'howev': 1995, 'suggest': 4126, 'abl': 9, 'or': 3009, 'everi': 1370, 'settl': 3734, 'wishin': 4793, 'mrng': 2759, 'hav': 1873, 'nice': 2867, 'stori': 4070, 'hamster': 1843, 'tmr': 4379, 'orchard': 3012, 'kate': 2284, 'found': 1582, 'enc': 1310, 'buck': 569, 'darlin': 1001, 'ive': 2178, 'colleg': 819, 'refil': 3476, 'success': 4117, 'inr': 2117, 'keralacircl': 2294, 'prepaid': 3278, 'balanc': 329, 'rs': 3588, 'transact': 4447, 'id': 2041, 'kr': 2336, 'goodmorn': 1753, 'sleep': 3865, 'alter': 122, 'dat': 1004, 'ericsson': 1341, 'oso': 3026, 'cannot': 640, 'oredi': 3015, 'aight': 86, 'straight': 4073, 'dogg': 1158, 'connect': 869, 'refund': 3480, 'bill': 433, 'shoot': 3786, 'big': 430, 'reward': 3541, 'noe': 2888, 'sound': 3949, 'head': 1884, 'slept': 3867, 'past': 3100, 'easi': 1251, 'exam': 1393, 'march': 2588, 'gt': 1807, 'atm': 265, 'os': 3025, 'ubandu': 4508, 'instal': 2124, 'hard': 1861, 'import': 2074, 'file': 1495, 'system': 4200, 'repair': 3505, 'cours': 916, 'happen': 1854, 'romant': 3574, 'nite': 2880, 'sceneri': 3665, 'collect': 818, 'appreci': 195, 'partner': 3093, 'career': 654, 'flyng': 1546, 'horo': 1978, 'star': 4032, 'ari': 218, 'compani': 836, 'elama': 1287, 'strict': 4082, 'bcoz': 367, 'teacher': 4243, 'teach': 4242, 'conduct': 859, 'gandhipuram': 1666, 'walk': 4673, 'cross': 946, 'side': 3817, 'street': 4078, 'road': 3563, 'rubber': 3593, 'batteri': 357, 'sexi': 3739, 'flirt': 1536, 'sam': 3627, 'penc': 3121, 'print': 3304, 'upstair': 4565, 'closer': 789, 'wil': 4774, 'argument': 217, 'lose': 2490, 'argu': 216, 'kick': 2304, 'secret': 3694, 'admir': 48, 'tomarrow': 4399, 'laptop': 2358, 'case': 664, 'pleassssssseeeee': 3195, 'tel': 4254, 'avent': 294, 'sportsx': 4003, 'shine': 3773, 'meant': 2621, 'although': 123, 'told': 4395, 'baig': 325, 'face': 1423, 'fr': 1590, 'thanx': 4294, 'everyth': 1376, 'slipper': 3872, 'kalli': 2274, 'bat': 352, 'didnt': 1096, 'goodnight': 1754, 'fix': 1519, 'readi': 3440, 'wake': 4670, 'dearli': 1020, 'night': 2874, 'congratul': 868, 'cd': 678, 'voucher': 4659, 'music': 2783, 'tnc': 4381, 'ranjith': 3421, 'cal': 612, 'drpd': 1213, 'deeraj': 1036, 'deepak': 1033, 'hold': 1952, 'bcum': 368, 'angri': 151, 'wid': 4769, 'dnt': 1148, 'coz': 921, 'childish': 739, 'true': 4468, 'deep': 1032, 'care': 652, 'kettoda': 2296, 'up': 4559, 'ship': 3774, 'usp': 4586, 'lag': 2347, 'bribe': 533, 'nipost': 2878, 'lemm': 2399, 'necessarili': 2833, 'expect': 1404, 'headin': 1886, 'mmm': 2705, 'jolt': 2242, 'suzi': 4166, 'lover': 2509, 'video': 4629, 'anytim': 175, 'unlimit': 4549, 'park': 3086, 'shop': 3787, 'disturb': 1139, 'luton': 2531, 'ring': 3552, 'horni': 1976, 'nake': 2802, 'hot': 1984, 'unsubscrib': 4557, 'dint': 1117, 'wana': 4683, 'sometm': 3923, 'choos': 754, 'content': 879, 'club': 793, 'singl': 3837, 'chart': 708, 'qualiti': 3384, 'sort': 3946, 'narcot': 2811, 'sunni': 4136, 'ray': 3428, 'worri': 4840, 'blue': 470, 'hmv': 1946, 'genuin': 1693, 'usf': 4584, 'might': 2666, 'bf': 424, 'rob': 3565, 'mack': 2548, 'gf': 1704, 'theater': 4298, 'type': 4506, 'food': 1559, 'hand': 1844, 'celebr': 681, 'full': 1642, 'swing': 4186, 'definit': 1040, 'far': 1448, 'ahold': 83, 'anybodi': 166, 'throw': 4340, 'babi': 313, 'cruisin': 952, 'fone': 1557, 'jenni': 2216, 'mail': 2561, 'edukkukaye': 1267, 'raksha': 3412, 'gautham': 1676, 'stupid': 4103, 'cam': 627, 'buzi': 600, 'accident': 23, 'resend': 3516, 'phone': 3154, 'upgrad': 4561, 'sim': 3827, 'card': 649, 'unless': 4547, 'gurl': 1819, 'appropri': 197, 'teas': 4246, 'die': 1098, 'plz': 3204, 'rose': 3580, 'grave': 1786, 'bslvyl': 561, 'somebodi': 3916, 'high': 1924, 'diesel': 1099, 'shit': 3776, 'shock': 3783, 'imagin': 2065, 'def': 1037, 'somewher': 3925, 'meal': 2617, 'womdarful': 4820, 'actor': 36, 'blind': 459, 'unit': 4544, 'hide': 1923, 'jo': 2231, 'friendship': 1617, 'hang': 1848, 'thread': 4334, 'newest': 2859, 'fit': 1516, 'funki': 1649, 'garag': 1670, 'bookshelf': 494, 'accept': 20, 'sister': 3842, 'lvblefrnd': 2536, 'jstfrnd': 2252, 'cutefrnd': 979, 'lifpartnr': 2422, 'belovd': 406, 'swtheart': 4192, 'bstfrnd': 564, 'enemi': 1314, 'smart': 3882, 'weekli': 4724, 'winnersclub': 4786, 'normal': 2905, 'rest': 3526, 'wot': 4845, 'made': 2552, 'kb': 2287, 'power': 3255, 'dunno': 1235, 'tahan': 4209, 'yoga': 4927, 'lo': 2457, 'afraid': 67, 'decemb': 1024, 'merri': 2650, 'christma': 761, 'cud': 960, 'ppl': 3256, 'gona': 1745, 'buse': 589, 'gon': 1744, 'waitin': 4669, 'pete': 3144, 'bristol': 544, 'touch': 4431, 'sign': 3819, 'track': 4440, 'record': 3464, 'read': 3439, 'women': 4821, 'light': 2424, 'book': 491, 'return': 3536, 'immedi': 2070, 'germani': 1697, 'line': 2435, 'via': 4622, 'access': 21, 'evapor': 1364, 'violat': 4641, 'privaci': 3308, 'steal': 4046, 'cool': 890, 'report': 3510, 'valentin': 4597, 'dine': 1112, 'surf': 4155, 'post': 3245, 'wiv': 4804, 'carolin': 658, 'interest': 2133, 'clear': 780, 'two': 4497, 'round': 3582, 'huim': 2009, 'small': 3880, 'prestig': 3291, 'problem': 3316, 'xxuk': 4884, 'iphon': 2155, 'apeshit': 180, 'ever': 1369, 'misbehav': 2686, 'slap': 3863, 'urself': 4577, 'basic': 351, 'yo': 4926, 'figur': 1494, 'jay': 2203, 'weed': 4720, 'ish': 2164, 'onam': 2981, 'met': 2656, 'insur': 2129, 'insha': 2119, 'ex': 1390, 'tata': 4232, 'aig': 85, 'current': 971, 'maxim': 2611, 'unemploy': 4536, 'st': 4020, 'chikku': 737, 'statu': 4041, 'busi': 591, 'forward': 1581, 'dawn': 1009, 'refresh': 3479, 'breath': 531, 'air': 88, 'sonyericsson': 3934, 'min': 2673, 'discount': 1129, 'geeee': 1683, 'woke': 4817, 'bed': 382, 'cuddl': 961, 'spoil': 3994, 'agre': 78, 'will': 4778, 'refer': 3473, 'gbp': 1680, 'seen': 3704, 'recognis': 3463, 'lindsay': 2434, 'bar': 343, 'ptbo': 3357, 'heron': 1916, 'payasam': 3110, 'rinu': 3555, 'bring': 541, 'taught': 4234, 'sir': 3841, 'becau': 377, 'he': 1883, 'prabu': 3260, 'mistak': 2698, 'bodi': 480, 'quit': 3391, 'guid': 1815, 'ovul': 3049, 'reason': 3449, 'followin': 1554, 'coupl': 913, 'wallet': 4677, 'bluetooth': 471, 'motorola': 2750, 'owl': 3052, 'lick': 2415, 'mm': 2704, 'orang': 3010, 'rental': 3504, 'mobilesdirect': 2719, 'buffet': 574, 'huh': 2007, 'sat': 3645, 'intro': 2142, 'pilat': 3170, 'kickbox': 2305, 'offic': 2958, 'lap': 2357, 'shut': 3812, 'bout': 510, 'perform': 3129, 'calcul': 613, 'actual': 37, 'rock': 3567, 'put': 3377, 'pictur': 3165, 'ass': 249, 'al': 98, 'salam': 3621, 'grace': 1773, 'field': 1487, 'quickli': 3389, 'administr': 47, 'poli': 3219, 'tone': 4405, 'cream': 934, 'none': 2895, 'loxahatche': 2514, 'tree': 4456, 'stoner': 4064, 'slightli': 3870, 'disastr': 1125, 'pm': 3205, 'fav': 1461, 'wld': 4812, 'drink': 1204, 'busetop': 590, 'iron': 2160, 'yan': 4898, 'jiu': 2229, 'skip': 3857, 'den': 1054, 'mrt': 2760, 'blah': 454, 'wendi': 4736, 'whatsup': 4751, 'goal': 1731, 'competit': 841, 'logo': 2468, 'mobno': 2720, 'adam': 39, 'eve': 1365, 'txtno': 4503, 'ad': 38, 'siva': 3849, 'hostel': 1982, 'land': 2351, 'attitud': 271, 'urin': 4574, 'mind': 2675, 'wnt': 4814, 'bmw': 476, 'vri': 4661, 'hv': 2024, 'shortag': 3792, 'sourc': 3952, 'arng': 224, 'fifteen': 1490, 'fuck': 1635, 'respond': 3524, 'question': 3387, 'vari': 4603, 'ldn': 2381, 'hillsborough': 1927, 'th': 4287, 'askin': 246, 'shoul': 3797, 'ten': 4265, 'applebe': 191, 'hasnt': 1867, 'cricket': 942, 'sachin': 3608, 'tough': 4432, 'suppos': 4151, 'tot': 4429, 'din': 1111, 'group': 1799, 'wereth': 4741, 'monkeespeopl': 2733, 'howdi': 1994, 'howu': 1996, 'foundurself': 1583, 'jobyet': 2234, 'jen': 2215, 'kinda': 2310, 'concentr': 854, 'hank': 1851, 'detail': 1074, 'optimist': 3005, 'improv': 2079, 'purpos': 3372, 'homeown': 1959, 'tenant': 4266, 'previous': 3297, 'oreo': 3016, 'ami': 130, 'ure': 4568, 'intellig': 2130, 'woman': 4819, 'result': 3531, 'consist': 874, 'practicum': 3263, 'ear': 1245, 'ttyl': 4479, 'isnt': 2166, 'thru': 4343, 'differ': 1102, 'decis': 1027, 'cope': 894, 'heal': 1889, 'god': 1733, 'upgrdcentr': 4562, 'bye': 605, 'railway': 3403, 'doggi': 1159, 'style': 4104, 'fave': 1462, 'enjoy': 1320, 'slipperi': 3873, 'mani': 2582, 'dave': 1008, 'notic': 2915, 'tenerif': 4267, 'tc': 4240, 'sae': 3612, 'remov': 3501, 'flat': 1526, 'transfer': 4448, 'dollar': 1166, 'moan': 2714, 'broken': 550, 'cum': 965, 'infront': 2106, 'wise': 4791, 'tension': 4269, 'mcr': 2616, 'sec': 3691, 'tast': 4230, 'fb': 1466, 'jaykwon': 2205, 'thuglyf': 4346, 'falconerf': 1438, 'term': 4270, 'visit': 4648, 'depend': 1060, 'fade': 1428, 'ralph': 3414, 'dri': 1203, 'trade': 4442, 'credit': 937, 'accentur': 19, 'jackson': 2185, 'rec': 3452, 'center': 683, 'fight': 1492, 'either': 1283, 'fightng': 1493, 'dificult': 1105, 'fish': 1513, 'bore': 500, 'outsid': 3038, 'westshor': 4746, 'hyde': 2027, 'near': 2827, 'fee': 1473, 'rent': 3503, 'opinion': 2999, 'jada': 2187, 'kusruthi': 2339, 'silent': 3824, 'spl': 3989, 'charact': 702, 'matur': 2610, 'stylish': 4105, 'simpl': 3828, 'scroung': 3682, 'ammo': 132, 'ak': 96, 'heart': 1894, 'sori': 3944, 'forgiven': 1572, 'tat': 4231, 'ipod': 2156, 'ibhltd': 2033, 'boltblu': 485, 'cha': 690, 'slide': 3869, 'slow': 3876, 'jamz': 2192, 'toxic': 4437, 'renew': 3502, 'pin': 3174, 'tgxxrz': 4286, 'transport': 4450, 'less': 2404, 'problemat': 3317, 'no': 2885, 'unconsci': 4526, 'children': 741, 'adult': 55, 'behav': 395, 'ebay': 1261, 'shall': 3750, 'pickl': 3164, 'taco': 4205, 'attempt': 267, 'member': 2639, 'cs': 953, 'unsub': 4556, 'pretti': 3294, 'ladi': 2346, 'reciev': 3461, 'within': 4799, 'condit': 858, 'channel': 698, 'teletext': 4256, 'pg': 3147, 'malaria': 2569, 'bani': 338, 'lead': 2383, 'passion': 3097, 'kiss': 2316, 'across': 31, 'sea': 3687, 'probabl': 3315, 'fat': 1455, 'finger': 1506, 'button': 596, 'ummmmmaah': 4520, 'tirupur': 4369, 'web': 4710, 'famou': 1443, 'develop': 1078, 'abil': 6, 'listen': 2446, 'uncondit': 4525, 'temper': 4263, 'self': 3709, 'oclock': 2950, 'bash': 350, 'recoveri': 3466, 'rather': 3424, 'coop': 891, 'hotel': 1985, 'cali': 614, 'english': 1319, 'weddin': 4716, 'omw': 2980, 'btw': 566, 'sink': 3838, 'cage': 610, 'cock': 807, 'surround': 4161, 'remind': 3500, 'own': 3053, 'cuck': 959, 'hurri': 2018, 'three': 4336, 'acknowledg': 30, 'astoundingli': 256, 'tactless': 4207, 'gener': 1687, 'faggi': 1429, 'demand': 1053, 'blood': 464, 'oath': 2942, 'fo': 1549, 'warm': 4689, 'milk': 2670, 'loos': 2486, 'pan': 3065, 'cheap': 713, 'silli': 3825, 'uv': 4590, 'sunscreen': 4139, 'essenti': 1354, 'theseday': 4308, 'workin': 4836, 'bao': 342, 'sugardad': 4125, 'browni': 556, 'geeeee': 1684, 'bare': 344, 'icki': 2039, 'american': 129, 'freek': 1603, 'callin': 624, 'bad': 319, 'oooh': 2992, 'ridden': 3547, 'gym': 1824, 'daddi': 986, 'scream': 3679, 'yar': 4899, 'lor': 2488, 'mum': 2776, 'sch': 3666, 'clean': 779, 'lab': 2343, 'goggl': 1735, 'nope': 2900, 'arngd': 225, 'marriag': 2595, 'walkin': 4675, 'unfortuntli': 4539, 'snake': 3897, 'bite': 449, 'danc': 991, 'frnt': 1626, 'sayin': 3659, 'textand': 4280, 'kid': 2306, 'jjc': 2230, 'headach': 1885, 'jazz': 2207, 'yogasana': 4928, 'em': 1298, 'meiv': 2634, 'hardli': 1865, 'gotani': 1762, 'srsli': 4018, 'yi': 4921, 'tho': 4327, 'spree': 4009, 'custcar': 974, 'ag': 72, 'promo': 3334, 'grand': 1778, 'stranger': 4076, 'exhaust': 1402, 'train': 4444, 'present': 3285, 'tsunami': 4477, 'occur': 2949, 'rajnik': 3410, 'swim': 4184, 'indian': 2095, 'noon': 2897, 'soire': 3912, 'zouk': 4957, 'nichol': 2868, 'bridgwat': 535, 'banter': 341, 'neva': 2854, 'imma': 2069, 'news': 2861, 'suit': 4127, 'cer': 686, 'often': 2963, 'hundr': 2013, 'beauti': 375, 'aunti': 281, 'shuhui': 3810, 'leona': 2402, 'reaction': 3438, 'famili': 1441, 'kind': 2309, 'weather': 4709, 'togeth': 4388, 'dismay': 1134, 'alex': 103, 'concern': 855, 'pub': 3359, 'bud': 570, 'offici': 2959, 'paid': 3061, 'market': 2593, 'tootsi': 4416, 'darren': 1002, 'textbuddi': 4282, 'area': 211, 'postcod': 3248, 'vodafon': 4653, 'seventeen': 3736, 'seven': 3735, 'ml': 2703, 'pc': 3113, 'biola': 439, 'login': 2467, 'dad': 985, 'fetch': 1482, 'restock': 3527, 'gorgeou': 1757, 'brighten': 538, 'wee': 4719, 'thursday': 4348, 'brave': 523, 'taken': 4215, 'jolli': 2241, 'templ': 4264, 'sonetim': 3931, 'rough': 3581, 'panic': 3068, 'wesley': 4742, 'bet': 416, 'hella': 1908, 'drug': 1214, 'impati': 2073, 'sun': 4134, 'earth': 1250, 'cloud': 791, 'river': 3561, 'evng': 1383, 'sens': 3720, 'premium': 3277, 'lay': 2377, 'repent': 3507, 'prepar': 3279, 'studi': 4098, 'posit': 3242, 'kama': 2275, 'sutra': 4164, 'en': 1309, 'nang': 2808, 'bakra': 328, 'ho': 1947, 'belli': 402, 'opt': 3004, 'whatev': 4750, 'knw': 2327, 'escap': 1348, 'freaki': 1597, 'yell': 4911, 'lone': 2476, 'xy': 4892, 'bedroom': 386, 'sue': 4121, 'textoper': 4284, 'lect': 2389, 'king': 2312, 'build': 576, 'imprtant': 2080, 'cochin': 806, 'bfore': 426, 'engag': 1317, 'an': 142, 'torch': 4422, 'farm': 1449, 'purchas': 3369, 'ah': 79, 'gpu': 1771, 'entrepreneur': 1331, 'corpor': 898, 'gap': 1669, 'prevent': 3295, 'dehydr': 1043, 'fluid': 1542, 'away': 302, 'trek': 4457, 'harri': 1866, 'fantast': 1447, 'game': 1664, 'deck': 1028, 'alert': 101, 'height': 1904, 'aeronaut': 61, 'professor': 3325, 'wer': 4740, 'calld': 620, 'sit': 3843, 'aftr': 71, 'ws': 4863, 'dey': 1081, 'datz': 1007, 'weird': 4727, 'shitstorm': 3779, 'attribut': 273, 'dorm': 1178, 'sell': 3712, 'callcost': 619, 'macha': 2544, 'assum': 252, 'wondar': 4822, 'cooki': 889, 'jelli': 2214, 'ba': 311, 'dao': 995, 'jide': 2228, 'email': 1299, 'jeri': 2217, 'prescripiton': 3282, 'drvgsto': 1219, 'spring': 4010, 'steak': 4045, 'twice': 4492, 'neglect': 2844, 'tonit': 4410, 'add': 40, 'prayer': 3272, 'loyalti': 2516, 'gd': 1681, 'faster': 1453, 'gal': 1661, 'attach': 266, 'glad': 1720, 'clock': 786, 'shout': 3799, 'realis': 3443, 'shorter': 3794, 'gaze': 1679, 'pic': 3162, 'subscrib': 4112, 'helplin': 1911, 'spoken': 3997, 'monday': 2731, 'gist': 1716, 'thousand': 4332, 'announc': 156, 'gimm': 1710, 'lip': 2444, 'caveboy': 674, 'librari': 2414, 'reali': 3442, 'confus': 866, 'anyon': 169, 'spare': 3964, 'faith': 1435, 'vibrat': 4624, 'act': 32, 'flight': 1533, 'claimcod': 771, 'mt': 2764, 'faber': 1422, 'yest': 4917, 'mah': 2559, 'ma': 2540, 'citi': 767, 'break': 527, 'summer': 4132, 'store': 4069, 'nt': 2924, 'somethin': 3921, 'meetin': 2631, 'ti': 4350, 'appar': 186, 'inch': 2082, 'snow': 3903, 'anywher': 177, 'damn': 989, 'hunt': 2017, 'idc': 2042, 'weasel': 4708, 'row': 3584, 'space': 3958, 'beg': 391, 'sing': 3835, 'door': 1177, 'hmmm': 1945, 'punish': 3366, 'randomlli': 3419, 'town': 4436, 'diff': 1101, 'perfect': 3128, 'polyphon': 3225, 'toppoli': 4420, 'tune': 4486, 'subpoli': 4111, 'fondli': 1556, 'bein': 397, 'thot': 4328, 'jan': 2193, 'omg': 2979, 'weigh': 4725, 'lost': 2493, 'uncount': 4528, 'piec': 3167, 'availa': 289, 'petey': 3145, 'boy': 513, 'wherear': 4757, 'friendsar': 1616, 'thekingshead': 4301, 'canlov': 638, 'nic': 2866, 'ago': 77, 'savamob': 3654, 'appt': 200, 'fault': 1460, 'cashto': 666, 'getstop': 1702, 'dled': 1145, 'imp': 2072, 'smokin': 3893, 'yet': 4919, 'boooo': 495, 'bec': 376, 'ugh': 4511, 'gift': 1708, 'futur': 1653, 'hint': 1929, 'borrow': 502, 'bag': 323, 'outbid': 3036, 'shinco': 3771, 'bid': 429, 'model': 2722, 'youi': 4932, 'galileo': 1662, 'dobbi': 1150, 'boo': 490, 'enjoyin': 1321, 'gettin': 1703, 'soonlot': 3938, 'lovem': 2508, 'ach': 28, 'yourinclus': 4937, 'extra': 1416, 'alfi': 104, 'chariti': 704, 'zed': 4952, 'profit': 3327, 'hmm': 1944, 'brain': 517, 'yesterday': 4918, 'mojibiola': 2726, 'reveal': 3537, 'cust': 973, 'mate': 2603, 'rv': 3604, 'skype': 3860, 'kz': 2341, 'given': 1719, 'ultimatum': 4517, 'countin': 910, 'five': 1518, 'inconsider': 2087, 'nag': 2797, 'recess': 3459, 'henc': 1913, 'camcord': 628, 'wed': 4715, 'soo': 3935, 'understand': 4531, 'comprehens': 849, 'mother': 2746, 'ibiza': 2034, 'await': 299, 'ppm': 3258, 'meanwhil': 2622, 'xavier': 4876, 'warn': 4690, 'samantha': 3629, 'guitar': 1817, 'impress': 2078, 'doug': 1187, 'stomach': 4062, 'trauma': 4451, 'swear': 4176, 'wan': 4682, 'inner': 2111, 'version': 4619, 'poor': 3230, 'urfeel': 4569, 'bettersn': 420, 'probthat': 3320, 'overdos': 3045, 'spk': 3988, 'sn': 3896, 'lovejen': 2507, 'fall': 1439, 'discreet': 1130, 'vip': 4644, 'hai': 1833, 'ana': 143, 'sathi': 3647, 'rto': 3590, 'spoon': 4000, 'tampa': 4223, 'geniu': 1688, 'whenev': 4755, 'dude': 1227, 'lotta': 2497, 'corvett': 902, 'suppli': 4149, 'virgin': 4645, 'mysteri': 2794, 'approx': 199, 'wall': 4676, 'bunker': 583, 'peac': 3114, 'matter': 2608, 'xxxxxx': 4888, 'posh': 3240, 'bird': 440, 'chap': 699, 'user': 4583, 'trial': 4460, 'prod': 3322, 'dob': 1149, 'ta': 4201, 'philosoph': 3151, 'experi': 1406, 'drop': 1211, 'nap': 2810, 'atleast': 264, 'otherwis': 3029, 'shesil': 3766, 'travel': 4452, 'ntt': 2925, 'fixedlin': 1521, 'liverpool': 2453, 'mid': 2663, 'knew': 2322, 'woul': 4848, 'gibe': 1707, 'midnight': 2665, 'movi': 2755, 'getsleep': 1701, 'studdi': 4095, 'sup': 4142, 'yoyyooo': 4941, 'permiss': 3135, 'usb': 4579, 'flash': 1525, 'gibb': 1706, 'hussey': 2022, 'short': 3791, 'unbeliev': 4523, 'faglord': 1430, 'murder': 2782, 'exactli': 1392, 'ie': 2050, 'thu': 4345, 'superb': 4144, 'grate': 1785, 'opportun': 3001, 'happier': 1858, 'agent': 76, 'nyc': 2938, 'due': 1228, 'sever': 3737, 'outstand': 3040, 'invoic': 2150, 'possibl': 3244, 'dead': 1015, 'smell': 3887, 'derek': 1063, 'taylor': 4238, 'worst': 4842, 'charl': 705, 'lastest': 2366, 'dizze': 1143, 'libertin': 2413, 'nookii': 2896, 'themob': 4303, 'bookmark': 493, 'plu': 3200, 'grinul': 1796, 'greet': 1794, 'white': 4761, 'fudg': 1637, 'januari': 2197, 'male': 2571, 'gay': 1678, 'ym': 4924, 'sad': 3611, 'pig': 3169, 'diet': 1100, 'project': 3329, 'chip': 750, 'iam': 2031, 'addict': 42, 'photo': 3157, 'regist': 3484, 'avalarr': 290, 'hollalat': 1957, 'attend': 269, 'blog': 461, 'ate': 259, 'slice': 3868, 'pizza': 3179, 'kvb': 2340, 'acc': 18, 'ore': 3014, 'mo': 2713, 'owo': 3054, 'moment': 2729, 'fro': 1627, 'wherev': 4758, 'samu': 3630, 'shoulder': 3798, 'campu': 632, 'matthew': 2609, 'wear': 4707, 'jean': 2212, 'stuf': 4101, 'least': 2387, 'writh': 4857, 'ton': 4404, 'theyr': 4310, 'medic': 2628, 'folk': 1552, 'commun': 834, 'sorta': 3947, 'blown': 468, 'score': 3672, 'sopha': 3942, 'secondari': 3693, 'applic': 193, 'research': 3515, 'expens': 1405, 'lodg': 2465, 'chk': 751, 'ms': 2761, 'dict': 1093, 'shb': 3758, 'truth': 4473, 'heavi': 1898, 'bowl': 511, 'filthi': 1499, 'brand': 520, 'magic': 2558, 'welp': 4734, 'retir': 3534, 'chad': 692, 'gymnast': 1825, 'site': 3844, 'christian': 760, 'necklac': 2835, 'token': 4393, 'wife': 4771, 'aptitud': 204, 'hors': 1980, 'race': 3397, 'earlier': 1247, 'chicken': 736, 'wrongli': 4861, 'crap': 929, 'borin': 501, 'boggi': 481, 'nxt': 2937, 'il': 2058, 'notebook': 2912, 'salari': 3622, 'chocol': 752, 'potenti': 3250, 'reckon': 3462, 'eightish': 1282, 'videophon': 4631, 'videochat': 4630, 'java': 2202, 'dload': 1147, 'polyph': 3224, 'nolin': 2892, 'fuckin': 1636, 'yun': 4945, 'ubi': 4509, 'tech': 4247, 'sd': 3684, 'butt': 594, 'juli': 2258, 'relax': 3491, 'parti': 3089, 'stripe': 4086, 'miracl': 2684, 'yetund': 4920, 'water': 4700, 'beth': 417, 'aunt': 280, 'charli': 706, 'helen': 1906, 'comin': 828, 'heard': 1892, 'syllabu': 4194, 'panason': 3066, 'bluetoothhdset': 472, 'doublemin': 1184, 'doubletxt': 1185, 'apt': 203, 'crazi': 932, 'terribl': 4272, 'awak': 300, 'meat': 2624, 'cudnt': 962, 'frm': 1619, 'ctla': 957, 'exe': 1399, 'gloriou': 1725, 'anniversari': 155, 'coax': 804, 'imag': 2064, 'fond': 1555, 'souveni': 3955, 'secretli': 3696, 'pattern': 3106, 'sore': 3943, 'scratch': 3678, 'plm': 3198, 'foreign': 1567, 'stamp': 4028, 'lectur': 2390, 'rais': 3405, 'zoe': 4955, 'shitin': 3777, 'defo': 1042, 'hardest': 1864, 'million': 2672, 'lekdog': 2398, 'fill': 1496, 'loverboy': 2510, 'blanket': 457, 'thx': 4349, 'nyt': 2940, 'edison': 1264, 'rightli': 3550, 'fool': 1560, 'speechless': 3972, 'atten': 268, 'holla': 1956, 'roast': 3564, 'educ': 1266, 'bloke': 462, 'euro': 1360, 'june': 2260, 'data': 1005, 'analysi': 145, 'thesi': 4309, 'belliger': 403, 'hiya': 1938, 'le': 2382, 'rudi': 3595, 'bak': 327, 'ink': 2108, 'eastend': 1256, 'flower': 1541, 'compar': 838, 'violet': 4643, 'tulip': 4485, 'lili': 2430, 'technic': 4248, 'support': 4150, 'kerala': 2293, 'finalis': 1501, 'local': 2461, 'bitch': 448, 'lul': 2528, 'juici': 2256, 'gossip': 1759, 'nurs': 2932, 'she': 3760, 'parchi': 3081, 'na': 2795, 'kicchu': 2303, 'kaaj': 2269, 'kort': 2333, 'iccha': 2037, 'korch': 2331, 'tul': 4484, 'sculptur': 3683, 'convey': 886, 'regard': 3483, 'surya': 4163, 'vijay': 4634, 'pokkiri': 3217, 'dearer': 1019, 'de': 1014, 'craziest': 933, 'proov': 3339, 'prais': 3265, 'curri': 972, 'maki': 2567, 'needl': 2840, 'evn': 1382, 'alwi': 125, 'spatula': 3966, 'sipix': 3840, 'digit': 1107, 'complex': 846, 'move': 2754, 'tax': 4236, 'tomorro': 4402, 'ryder': 3606, 'receipt': 3454, 'elvi': 1297, 'presley': 3286, 'strip': 4085, 'postal': 3246, 'cliff': 784, 'ne': 2826, 'wrking': 4859, 'uni': 4541, 'depress': 1062, 'sittin': 3847, 'wind': 4781, 'scari': 3663, 'black': 451, 'shirt': 3775, 'aiyah': 92, 'onto': 2988, 'surpris': 4159, 'hen': 1912, 'onlin': 2985, 'italian': 2168, 'teju': 4253, 'evalu': 1363, 'speed': 3973, 'speedchat': 3974, 'swap': 4170, 'rcd': 3431, 'cancel': 636, 'aiyar': 93, 'survey': 4162, 'who': 4763, 'error': 1344, 'howz': 1997, 'tau': 4233, 'sar': 3637, 'piah': 3161, 'film': 1497, 'mine': 2676, 'paper': 3074, 'notifi': 2916, 'station': 4040, 'tank': 4224, 'sexual': 3741, 'cute': 978, 'sitter': 3846, 'hee': 1901, 'peep': 3117, 'comment': 830, 'veggi': 4613, 'neighbor': 2845, 'truffl': 4469, 'drm': 1210, 'wrc': 4853, 'ralli': 3413, 'lucozad': 2525, 'itcould': 2169, 'horribl': 1979, 'mac': 2542, 'toot': 4414, 'bigger': 431, 'nw': 2936, 'hme': 1943, 'chennai': 728, 'flippin': 1535, 'cstore': 955, 'annoy': 157, 'hangin': 1850, 'makin': 2568, 'shame': 3751, 'quizz': 3394, 'popcorn': 3234, 'sex': 3738, 'thin': 4314, 'wrong': 4860, 'himso': 1928, 'neft': 2842, 'beneficiari': 410, 'sura': 4153, 'choic': 753, 'map': 2585, 'semi': 3715, 'apart': 179, 'deliv': 1049, 'strong': 4087, 'maaaan': 2541, 'bday': 370, 'april': 201, 'guessin': 1814, 'walmart': 4679, 'ilol': 2062, 'wuldnt': 4871, 'goin': 1737, 'mite': 2700, 'creepi': 939, 'organis': 3018, 'nok': 2890, 'txtin': 4501, 'prakesh': 3268, 'rofl': 3569, 'betta': 418, 'invest': 2146, 'anti': 164, 'product': 3323, 'accommod': 24, 'variou': 4604, 'global': 1724, 'submit': 4110, 'snatch': 3900, 'purs': 3373, 'edrunk': 1265, 'iff': 2051, 'pthi': 3358, 'dancc': 992, 'drum': 1216, 'ro': 3562, 'xxxxxxx': 4889, 'reliev': 3494, 'princess': 3303, 'nobodi': 2887, 'chines': 747, 'doc': 1151, 'havin': 1879, 'ava': 287, 'rang': 3420, 'melnit': 2637, 'ifink': 2052, 'explain': 1409, 'everythin': 1377, 'flip': 1534, 'shun': 3811, 'bian': 428, 'glass': 1722, 'el': 1284, 'nino': 2877, 'cbe': 675, 'honey': 1963, 'jd': 2209, 'execut': 1400, 'downstem': 1192, 'inperialmus': 2115, 'weirdest': 4728, 'insect': 2118, 'evil': 1381, 'didntgiv': 1097, 'bellearli': 401, 'bedbut': 383, 'thepub': 4306, 'uwana': 4592, 'exact': 1391, 'jane': 2195, 'tee': 4250, 'cheeri': 723, 'cell': 682, 'tht': 4344, 'dough': 1188, 'control': 883, 'mode': 2721, 'leh': 2396, 'stalk': 4027, 'green': 1793, 'jerri': 2218, 'cartoon': 663, 'irrit': 2161, 'fail': 1431, 'express': 1414, 'drinkin': 1205, 'other': 3028, 'tour': 4434, 'deposit': 1061, 'jap': 2199, 'birthdat': 444, 'certif': 689, 'publish': 3361, 'nydc': 2939, 'destin': 1072, 'daili': 988, 'favour': 1464, 'happenin': 1856, 'ipad': 2154, 'worthless': 4844, 'garbag': 1671, 'novelti': 2920, 'item': 2170, 'fran': 1592, 'broke': 549, 'knacker': 2320, 'janx': 2198, 'design': 1067, 'softwar': 3911, 'jamster': 2191, 'videosound': 4632, 'gold': 1739, 'lion': 2441, 'lionm': 2442, 'mono': 2735, 'lionp': 2443, 'origin': 3021, 'jokin': 2240, 'oni': 2984, 'bb': 359, 'girli': 1715, 'darker': 998, 'whenevr': 4756, 'remembr': 3499, 'listn': 2447, 'watevr': 4702, 'potter': 3251, 'phoenix': 3153, 'among': 134, 'shd': 3759, 'minu': 2682, 'coveragd': 920, 'urgnt': 4571, 'vasai': 4606, 'retard': 3533, 'sang': 3632, 'februari': 1471, 'longer': 2479, 'syria': 4199, 'wow': 4852, 'gaug': 1675, 'vl': 4651, 'ax': 306, 'chill': 742, 'surgic': 4156, 'emerg': 1303, 'ar': 206, 'fren': 1608, 'korean': 2332, 'fredericksburg': 1598, 'que': 3385, 'pase': 3095, 'un': 4521, 'buen': 572, 'tiempo': 4353, 'chillin': 743, 'super': 4143, 'sauci': 3653, 'there': 4307, 'tmrw': 4380, 'compass': 839, 'soul': 3948, 'misss': 2696, 'youuuuu': 4938, 'ned': 2836, 'convinc': 887, 'witot': 4802, 'main': 2563, 'luck': 2522, 'sweeti': 4181, 'blackberri': 452, 'nigeria': 2872, 'buyer': 598, 'pple': 3257, 'marri': 2594, 'becz': 381, 'undrstndng': 4535, 'whn': 4762, 'arrest': 231, 'suntec': 4141, 'moji': 2725, 'forgiv': 1571, 'yahoo': 4894, 'tp': 4439, 'fantasi': 1446, 'croydon': 948, 'bbq': 362, 'welcom': 4731, 'everyso': 1375, 'panick': 3069, 'write': 4856, 'dictionari': 1094, 'screen': 3680, 'bear': 373, 'upload': 4563, 'txtauction': 4500, 'huai': 2001, 'juan': 2255, 'linerent': 2437, 'tlk': 4376, 'ideal': 2044, 'path': 3102, 'appear': 188, 'front': 1631, 'arm': 221, 'shot': 3796, 'reserv': 3518, 'thirunelvali': 4320, 'tirunelvali': 4368, 'tackl': 4204, 'storm': 4071, 'wt': 4864, 'girlfrnd': 1714, 'grahmbel': 1775, 'invnt': 2149, 'pop': 3233, 'tonght': 4407, 'plough': 3199, 'pile': 3171, 'chinki': 748, 'wi': 4768, 'nz': 2941, 'fast': 1452, 'aust': 282, 'bk': 450, 'cafe': 609, 'recharg': 3460, 'papa': 3073, 'shld': 3781, 'sinco': 3833, 'urn': 4576, 'bewar': 422, 'share': 3756, 'disclos': 1127, 'vote': 4658, 'loser': 2491, 'option': 3007, 'practic': 3262, 'noncomitt': 2894, 'beneath': 409, 'pale': 3064, 'moon': 2740, 'goodnit': 1755, 'snicker': 3902, 'total': 4430, 'chord': 756, 'rem': 3495, 'silver': 3826, 'interviw': 2139, 'exet': 1401, 'spreadsheet': 4008, 'whose': 4766, 'idea': 2043, 'determin': 1075, 'entir': 1329, 'sale': 3623, 'arsen': 234, 'coat': 803, 'everybodi': 1371, 'intrepid': 2141, 'duo': 1236, 'sen': 3717, 'missin': 2693, 'guilti': 1816, 'aiya': 91, 'cardiff': 650, 'fact': 1426, 'addi': 41, 'tue': 4480, 'bright': 537, 'fresh': 1611, 'twitter': 4496, 'textpod': 4285, 'pod': 3212, 'duck': 1226, 'chinchilla': 746, 'function': 1644, 'headstart': 1888, 'desper': 1070, 'fli': 1532, 'monkey': 2734, 'certainli': 688, 'optin': 3006, 'bbc': 360, 'rajini': 3408, 'optout': 3008, 'spi': 3979, 'clair': 772, 'alon': 115, 'bought': 509, 'yalru': 4896, 'lyfu': 2538, 'astn': 255, 'innu': 2114, 'mundh': 2780, 'lyf': 2537, 'ali': 108, 'halla': 1839, 'ke': 2288, 'bilo': 436, 'ovr': 3048, 'vargu': 4602, 'meow': 2647, 'prone': 3337, 'luci': 2521, 'hubbi': 2002, 'cumin': 966, 'natur': 2820, 'dose': 1180, 'tablet': 4203, 'fever': 1483, 'incomm': 2086, 'lotr': 2495, 'googl': 1756, 'browsin': 559, 'compulsori': 851, 'puriti': 3371, 'musthu': 2786, 'slave': 3864, 'investig': 2147, 'vomit': 4657, 'aint': 87, 'cold': 813, 'vitamin': 4650, 'centr': 684, 'messeng': 2654, 'sha': 3745, 'crucial': 949, 'energi': 1315, 'leadership': 2384, 'skill': 3853, 'jsco': 2250, 'idp': 2048, 'linux': 2440, 'convert': 885, 'along': 116, 'karaok': 2281, 'sayi': 3658, 'except': 1395, 'oop': 2995, 'eight': 1280, 'format': 1577, 'disc': 1126, 'directli': 1119, 'prey': 3298, 'how': 1991, 'champ': 695, 'arriv': 232, 'brows': 557, 'corect': 896, 'spele': 3975, 'sarcasm': 3640, 'forum': 1580, 'ron': 3576, 'employe': 1307, 'sooo': 3939, 'unfortun': 4538, 'airport': 89, 'difficult': 1103, 'earliest': 1248, 'nordstrom': 2903, 'konw': 2330, 'waht': 4667, 'rael': 3399, 'gving': 1823, 'yuo': 4947, 'jsut': 2253, 'ese': 1349, 'tih': 4356, 'evrey': 1386, 'splle': 3993, 'sitll': 3845, 'ra': 3396, 'wihtuot': 4773, 'ayn': 309, 'confer': 860, 'prospect': 3345, 'shant': 3754, 'jia': 2226, 'bishan': 446, 'sux': 4165, 'raiden': 3402, 'buff': 573, 'south': 3953, 'chechi': 716, 'pierr': 3168, 'cardin': 651, 'establish': 1355, 'rhythm': 3544, 'truro': 4471, 'ga': 1657, 'gang': 1668, 'cloth': 790, 'sunroof': 4138, 'excel': 1394, 'sub': 4107, 'wifi': 4772, 'blank': 456, 'piss': 3177, 'rumour': 3600, 'kalainar': 2272, 'cc': 676, 'auction': 274, 'nosi': 2910, 'idk': 2047, 'react': 3437, 'satan': 3646, 'impost': 2077, 'destini': 1073, 'companion': 837, 'chef': 727, 'organ': 3017, 'boyfriend': 514, 'sympathet': 4196, 'athlet': 260, 'courag': 915, 'psychologist': 3356, 'pest': 3143, 'extermin': 1415, 'psychiatrist': 3355, 'healer': 1890, 'stylist': 4106, 'driver': 1207, 'aaniy': 2, 'pudunga': 3362, 'brotha': 553, 'chase': 709, 'chez': 733, 'jule': 2257, 'hhahhaahahah': 1920, 'wtf': 4866, 'nig': 2871, 'leonardo': 2403, 'john': 2237, 'strain': 4074, 'dime': 1109, 'withdraw': 4797, 'anyhow': 167, 'smeon': 3888, 'miller': 2671, 'rawr': 3427, 'xoxo': 4879, 'somewhr': 3927, 'honeymoon': 1965, 'propos': 3343, 'blame': 455, 'leo': 2401, 'patti': 3107, 'haul': 1871, 'wildlif': 4777, 'wizzl': 4805, 'lovingli': 2511, 'itwhichturnedinto': 2174, 'shanghai': 3753, 'instead': 2127, 'freez': 1606, 'pro': 3313, 'redeem': 3470, 'thnx': 4326, 'sef': 3705, 'laugh': 2372, 'batch': 353, 'fring': 1618, 'oz': 3055, 'flaki': 1524, 'sooooo': 3941, 'tooo': 4413, 'wate': 4699, 'british': 545, 'london': 2475, 'bx': 603, 'buzz': 601, 'ador': 51, 'eeri': 1271, 'titl': 4370, 'dracula': 1195, 'twilight': 4494, 'brought': 555, 'constant': 875, 'french': 1609, 'allow': 113, 'respons': 3525, 'lnli': 2456, 'jst': 2251, 'mobi': 2717, 'hlp': 1941, 'keen': 2289, 'switch': 4188, 'india': 2094, 'wright': 4855, 'somewhat': 3924, 'event': 1367, 'throat': 4339, 'goodeven': 1750, 'action': 34, 'partnership': 3094, 'lookin': 2483, 'daytim': 1011, 'busti': 592, 'janinexx': 2196, 'mostli': 2745, 'insid': 2121, 'spageddi': 3960, 'phase': 3149, 'fourth': 1585, 'dimens': 1110, 'meaning': 2619, 'compromis': 850, 'monthli': 2738, 'dub': 1223, 'je': 2210, 'toughest': 4433, 'unspoken': 4555, 'remain': 3496, 'maintain': 2564, 'squat': 4013, 'bold': 483, 'cramp': 928, 'nan': 2807, 'sonathaya': 3930, 'rape': 3422, 'poker': 3216, 'congrat': 867, 'embarrass': 1301, 'stash': 4037, 'ran': 3416, 'priya': 3310, 'doctor': 1152, 'suffici': 4123, 'father': 1457, 'kilo': 2308, 'accid': 22, 'tookplac': 4412, 'ghodbandar': 1705, 'traffic': 4443, 'slip': 3871, 'wkg': 4808, 'nu': 2927, 'specialis': 3969, 'dislik': 1133, 'despar': 1069, 'gotten': 1766, 'stereo': 4050, 'mi': 2660, 'unknown': 4546, 'vu': 4663, 'trackmarqu': 4441, 'missionari': 2695, 'hook': 1970, 'entertain': 1327, 'hugh': 2006, 'lauri': 2374, 'stick': 4055, 'inde': 2092, 'prap': 3269, 'bin': 438, 'spain': 3961, 'dinero': 1113, 'alrit': 120, 'complain': 842, 'mandi': 2578, 'sullivan': 4129, 'hotmix': 1986, 'chosen': 758, 'easter': 1257, 'telephon': 4255, 'callfreefon': 623, 'bahama': 324, 'cruis': 951, 'calm': 626, 'downon': 1191, 'itxt': 2175, 'iwana': 2179, 'wotu': 4846, 'doin': 1162, 'haventcn': 1878, 'neth': 2852, 'conact': 853, 'social': 3908, 'inspect': 2122, 'slowli': 3878, 'habit': 1829, 'panren': 3070, 'chuckin': 763, 'trainner': 4445, 'carryin': 661, 'bac': 316, 'schedul': 3667, 'lmao': 2455, 'stuck': 4094, 'muchand': 2770, 'venugop': 4617, 'mandan': 2576, 'ibh': 2032, 'textbook': 4281, 'algorithm': 107, 'favourit': 1465, 'invad': 2144, 'orig': 3020, 'arcad': 209, 'creat': 935, 'arun': 237, 'transfr': 4449, 'amt': 141, 'takin': 4216, 'eye': 1419, 'philosophi': 3152, 'intend': 2131, 'careabout': 653, 'foley': 1551, 'fake': 1436, 'iraq': 2158, 'stabl': 4022, 'aiyo': 94, 'pai': 3060, 'seh': 3706, 'beer': 389, 'combin': 824, 'walsal': 4680, 'jess': 2220, 'supervisor': 4146, 'ccna': 677, 'shrek': 3804, 'dirti': 1121, 'packag': 3058, 'dec': 1023, 'bam': 331, 'squishi': 4015, 'hottest': 1987, 'wet': 4747, 'promin': 3332, 'cheek': 721, 'septemb': 3726, 'hack': 1830, 'backdoor': 318, 'fraction': 1591, 'bcm': 366, 'norm': 2904, 'list': 2445, 'joanna': 2232, 'comingdown': 829, 'replac': 3508, 'murali': 2781, 'telli': 4258, 'mia': 2661, 'elliot': 1293, 'upto': 4566, 'matric': 2607, 'toa': 4382, 'payoh': 3112, 'payment': 3111, 'fedex': 1472, 'recept': 3458, 'hate': 1869, 'consensu': 870, 'tag': 4208, 'messi': 2655, 'laundri': 2373, 'underwear': 4533, 'bra': 516, 'strewn': 4081, 'pillow': 3172, 'wahe': 4665, 'mmmm': 2706, 'pull': 3363, 'sh': 3744, 'srt': 4019, 'yep': 4915, 'jontin': 2243, 'nearli': 2829, 'ban': 333, 'pen': 3120, 'beyond': 423, 'biro': 442, 'master': 2599, 'shell': 3763, 'unhappi': 4540, 'excus': 1398, 'abta': 14, 'season': 3689, 'extrem': 1418, 'wild': 4775, 'lim': 2431, 'vday': 4611, 'parachut': 3077, 'oki': 2973, 'tabl': 4202, 'lambda': 2349, 'snowman': 3906, 'angel': 150, 'snowbal': 3904, 'ello': 1294, 'ikea': 2055, 'ofic': 2961, 'cn': 797, 'duffer': 1229, 'grr': 1803, 'forev': 1568, 'pharmaci': 3148, 'cook': 888, 'electr': 1290, 'rpl': 3586, 'cnl': 798, 'kadeem': 2270, 'elsewher': 1296, 'fujitsu': 1639, 'seri': 3727, 'lifebook': 2419, 'scold': 3670, 'zhong': 4953, 'se': 3686, 'qing': 3382, 'villag': 4639, 'hypertens': 2028, 'wud': 4869, 'vpod': 4660, 'carri': 660, 'avatar': 291, 'nigro': 2876, 'anyplac': 170, 'prioriti': 3307, 'constantli': 876, 'minapn': 2674, 'hittng': 1937, 'reflex': 3478, 'costa': 905, 'sol': 3913, 'lousi': 2503, 'cat': 669, 'woken': 4818, 'hip': 1930, 'adewal': 44, 'aka': 97, 'egbon': 1276, 'mari': 2591, 'deduct': 1031, 'wrk': 4858, 'grab': 1772, 'awesom': 303, 'honeybe': 1964, 'sweetest': 4179, 'havnt': 1880, 'crack': 925, 'tesco': 4274, 'featheri': 1468, 'infra': 2105, 'php': 3158, 'nvm': 2935, 'gep': 1695, 'delhi': 1047, 'thinkin': 4317, 'fifa': 1489, 'shhhhh': 3767, 'relat': 3490, 'tea': 4241, 'length': 2400, 'distract': 1138, 'num': 2930, 'corrct': 899, 'dane': 993, 'proof': 3338, 'rupaul': 3602, 'provid': 3348, 'liao': 2411, 'practis': 3264, 'yeh': 4910, 'havbeen': 1875, 'rise': 3557, 'havebeen': 1876, 'feelingood': 1476, 'memori': 2641, 'african': 68, 'major': 2565, 'role': 3571, 'mel': 2635, 'birth': 443, 'intent': 2132, 'rule': 3598, 'bend': 408, 'thia': 4313, 'inlud': 2109, 'freefon': 1602, 'dha': 1082, 'kitti': 2318, 'shave': 3757, 'onward': 2990, 'tact': 4206, 'tsc': 4476, 'theatr': 4299, 'potato': 3249, 'cram': 927, 'satsgettin': 3650, 'lie': 2417, 'inning': 2112, 'admit': 50, 'pei': 3119, 'boost': 496, 'subtoitl': 4116, 'jot': 2245, 'gari': 1673, 'infern': 2101, 'cast': 667, 'aom': 178, 'thkin': 4322, 'nd': 2825, 'rush': 3603, 'parco': 3082, 'resub': 3529, 'yay': 4904, 'ahmad': 82, 'saeed': 3613, 'hallaq': 1840, 'thnk': 4324, 'lyk': 2539, 'jealou': 2211, 'giv': 1717, 'color': 820, 'eldest': 1288, 'drugdeal': 1215, 'gender': 1685, 'wither': 4798, 'wondarful': 4823, 'txtx': 4504, 'ge': 1682, 'donyt': 1176, 'latelyxxx': 2368, 'semest': 3714, 'rich': 3545, 'justthought': 2266, 'endof': 1313, 'offdam': 2955, 'uwant': 4593, 'flag': 1522, 'yer': 4916, 'eng': 1316, 'yor': 4929, 'stress': 4079, 'thanksgiv': 4291, 'jason': 2201, 'soooo': 3940, 'tming': 4378, 'cutest': 980, 'art': 235, 'inclus': 2085, 'howda': 1993, 'math': 2604, 'samachara': 3628, 'audri': 278, 'autocorrect': 285, 'simul': 3831, 'armand': 222, 'rub': 3592, 'lara': 2360, 'clever': 782, 'med': 2627, 'envelop': 1335, 'washob': 4692, 'nob': 2886, 'nickey': 2869, 'platt': 3187, 'ryan': 3605, 'mad': 2550, 'argh': 215, 'provinc': 3349, 'sterl': 4051, 'xam': 4875, 'hall': 1838, 'manag': 2575, 'hesit': 1917, 'intha': 2140, 'ponnungal': 3226, 'reject': 3488, 'shitload': 3778, 'diamond': 1090, 'shija': 3770, 'china': 744, 'needa': 2838, 'mcat': 2615, 'manual': 2584, 'reset': 3519, 'strongli': 4088, 'sacrific': 3610, 'creativ': 936, 'stifl': 4057, 'requir': 3514, 'stayin': 4043, 'qlynnbv': 3383, 'cld': 778, 'prefer': 3275, 'nosh': 2909, 'lololo': 2473, 'kindli': 2311, 'document': 1153, 'stapati': 4031, 'wale': 4671, 'hill': 1926, 'parent': 3083, 'colleagu': 817, 'sed': 3699, 'latr': 2371, 'honesti': 1961, 'shakara': 3748, 'smash': 3885, 'crickit': 943, 'imin': 2068, 'urgoin': 4572, 'reallyne': 3447, 'dontpleas': 1175, 'dontignor': 1174, 'thecd': 4300, 'tome': 4400, 'yavnt': 4901, 'wednesday': 4718, 'ibuprofen': 2035, 'sip': 3839, 'cappuccino': 646, 'ps': 3352, 'grown': 1801, 'chinatown': 745, 'claypot': 777, 'yam': 4897, 'fishhead': 1514, 'tok': 4391, 'specif': 3970, 'jaklin': 2189, 'nearbi': 2828, 'ntwk': 2926, 'bundl': 582, 'mf': 2658, 'moseley': 2744, 'thankyou': 4293, 'advanc': 56, 'leg': 2393, 'neck': 2834, 'amigo': 131, 'continu': 880, 'holi': 1954, 'arti': 236, 'collag': 815, 'tryin': 4474, 'billion': 435, 'walik': 4672, 'carton': 662, 'shelv': 3764, 'pix': 3178, 'funni': 1650, 'distanc': 1137, 'mirror': 2685, 'your': 4936, 'freak': 1596, 'ref': 3472, 'jod': 2236, 'revis': 3540, 'keri': 2295, 'beliv': 399, 'empti': 1308, 'slot': 3875, 'accordin': 26, 'vikki': 4636, 'knock': 2324, 'plaid': 3183, 'xxxx': 4886, 'nelson': 2847, 'temp': 4262, 'unmit': 4550, 'display': 1136, 'newspap': 2863, 'yummmm': 4944, 'scammer': 3660, 'regular': 3487, 'prem': 3276, 'dena': 1055, 'threat': 4335, 'shifad': 3769, 'complaint': 843, 'lk': 2454, 'lov': 2504, 'comfort': 827, 'subscrit': 4114, 'rude': 3594, 'privat': 3309, 'shag': 3746, 'watchin': 4697, 'lifetim': 2421, 'meaningless': 2620, 'brdget': 525, 'inev': 2098, 'studio': 4099, 'unabl': 4522, 'velli': 4615, 'wkend': 4807, 'journey': 2246, 'huge': 2005, 'anni': 154, 'mailbox': 2562, 'retriev': 3535, 'hrishi': 1999, 'nothin': 2914, 'hanger': 1849, 'cheer': 722, 'tear': 4245, 'duchess': 1225, 'cornwal': 897, 'sp': 3957, 'arrow': 233, 'dozen': 1193, 'signific': 3820, 'waqt': 4688, 'pehl': 3118, 'naseeb': 2813, 'zyada': 4958, 'kisi': 2315, 'ko': 2328, 'kuch': 2338, 'nahi': 2800, 'wo': 4815, 'hum': 2010, 'socht': 3907, 'zindgi': 4954, 'ham': 1842, 'jeetey': 2213, 'wors': 4841, 'dan': 990, 'varaya': 4601, 'anand': 146, 'beach': 371, 'aww': 304, 'jez': 2224, 'iscom': 2163, 'todo': 4386, 'workand': 4835, 'whilltak': 4760, 'stare': 4033, 'whether': 4759, 'financi': 1503, 'alian': 109, 'posibl': 3241, 'centuri': 685, 'cm': 794, 'frwd': 1634, 'unnecessarili': 4551, 'affection': 64, 'clarif': 773, 'spook': 3999, 'halloween': 1841, 'issu': 2167, 'easier': 1252, 'regret': 3486, 'footbal': 1562, 'sky': 3858, 'gamestar': 1665, 'monoc': 2736, 'polyc': 3222, 'stream': 4077, 'sheffield': 3762, 'tom': 4398, 'categori': 671, 'measur': 2623, 'ethnic': 1358, 'propsd': 3344, 'gv': 1822, 'lv': 2535, 'threw': 4337, 'aproach': 202, 'dt': 1221, 'truck': 4467, 'wn': 4813, 'hell': 1907, 'instantli': 2126, 'thi': 4312, 'happili': 1860, 'evrydi': 1388, 'moral': 2741, 'obvious': 2946, 'arent': 212, 'bluff': 473, 'izzit': 2181, 'imposs': 2076, 'lei': 2397, 'goodmat': 1752, 'rite': 3559, 'franyxxxxx': 1595, 'batt': 356, 'gn': 1728, 'pussi': 3376, 'becausethey': 378, 'wiskey': 4795, 'brandi': 521, 'rum': 3599, 'gin': 1712, 'vodka': 4654, 'scotch': 3673, 'shampain': 3752, 'dhina': 1083, 'gain': 1660, 'kg': 2300, 'sugar': 4124, 'pressur': 3290, 'limit': 2432, 'okey': 2972, 'dress': 1201, 'byatch': 604, 'roger': 3570, 'nasti': 2814, 'slo': 3874, 'chiong': 749, 'jesu': 2221, 'christ': 759, 'tuesday': 4481, 'dialogu': 1089, 'wipe': 4788, 'solv': 3915, 'polic': 3220, 'pose': 3239, 'comb': 823, 'dryer': 1220, 'fp': 1589, 'push': 3374, 'dlf': 1146, 'gotto': 1767, 'bloo': 463, 'offlin': 2960, 'swiss': 4187, 'lac': 2344, 'budget': 571, 'crore': 945, 'lane': 2354, 'supli': 4147, 'citizen': 768, 'imf': 2067, 'block': 460, 'corrupt': 901, 'itna': 2173, 'karo': 2283, 'ki': 2302, 'pura': 3368, 'torrent': 4423, 'particularli': 3092, 'legal': 2394, 'commit': 832, 'random': 3417, 'church': 764, 'donno': 1171, 'scorabl': 3671, 'paranoid': 3079, 'brin': 540, 'properli': 3341, 'bsnl': 563, 'offc': 2953, 'sponsor': 3998, 'onum': 2989, 'poet': 3213, 'frndship': 1622, 'wast': 4694, 'sri': 4017, 'furnitur': 1651, 'lock': 2464, 'key': 2297, 'easiest': 1253, 'ru': 3591, 'sppok': 4007, 'complementari': 844, 'jungl': 2261, 'kanji': 2278, 'sr': 4016, 'drizzl': 1209, 'shove': 3800, 'drama': 1196, 'struggl': 4091, 'strang': 4075, 'ego': 1278, 'necess': 2831, 'seriou': 3728, 'releas': 3492, 'cosign': 903, 'hvae': 2025, 'hcl': 1881, 'fresher': 1612, 'voic': 4655, 'dai': 987, 'resum': 3532, 'ola': 2974, 'reliant': 3493, 'fwiw': 1655, 'afford': 66, 'yunni': 4946, 'citylink': 769, 'er': 1339, 'pleasant': 3194, 'bognor': 482, 'splendid': 3991, 'ktv': 2337, 'misplac': 2690, 'atlanta': 262, 'mmmmm': 2707, 'begun': 393, 'registr': 3485, 'perman': 3134, 'resid': 3520, 'plenti': 3197, 'rel': 3489, 'benefit': 411, 'amount': 137, 'program': 3328, 'belong': 404, 'fate': 1456, 'shoranur': 3789, 'fuell': 1638, 'prior': 3306, 'grief': 1795, 'chain': 693, 'violenc': 4642, 'terrif': 4273, 'honestli': 1962, 'promptli': 3336, 'burnt': 588, 'advic': 58, 'mini': 2678, 'snap': 3898, 'gmw': 1727, 'pressi': 3289, 'dr': 1194, 'superior': 4145, 'ultim': 4516, 'tor': 4421, 'motiv': 2748, 'tui': 4482, 'achiev': 29, 'boat': 478, 'roll': 3572, 'newscast': 2862, 'dabbl': 984, 'flute': 1545, 'behind': 396, 'wheel': 4753, 'amaz': 128, 'vid': 4628, 'keyword': 2298, 'ruin': 3597, 'contract': 881, 'elabor': 1286, 'safeti': 3615, 'aspect': 248, 'tarot': 4228, 'asleep': 247, 'depart': 1059, 'fathima': 1458, 'hr': 1998, 'conform': 865, 'horniest': 1977, 'ovarian': 3042, 'bc': 363, 'shrink': 3805, 'timin': 4363, 'death': 1021, 'gosh': 1758, 'spose': 4004, 'rimac': 3551, 'arestaur': 213, 'dosometh': 1181, 'luckili': 2524, 'madam': 2551, 'innoc': 2113, 'mental': 2643, 'challeng': 694, 'hon': 1960, 'breakfast': 529, 'realiti': 3444, 'unni': 4552, 'lack': 2345, 'particular': 3091, 'digi': 1106, 'fab': 1421, 'coupla': 914, 'held': 1905, 'tiwari': 4371, 'bang': 336, 'checkup': 720, 'pap': 3072, 'smear': 3886, 'gobi': 1732, 'pandi': 3067, 'technolog': 4249, 'taxt': 4237, 'confid': 861, 'shake': 3749, 'booti': 497, 'scarcasim': 3661, 'naal': 2796, 'bro': 546, 'amongst': 135, 'needi': 2839, 'northampton': 2907, 'abj': 8, 'playng': 3191, 'sara': 3638, 'instruct': 2128, 'anna': 153, 'nagar': 2798, 'ericson': 1340, 'luk': 2527, 'modl': 2723, 'cheesi': 725, 'frosti': 1632, 'witin': 4801, 'sport': 4002, 'fan': 1444, 'europ': 1362, 'sept': 3725, 'nudist': 2929, 'theme': 4302, 'pump': 3364, 'petrol': 3146, 'facebook': 1424, 'feb': 1470, 'ignor': 2053, 'evr': 1385, 'neither': 2846, 'unusu': 4558, 'hug': 2004, 'west': 4743, 'fastest': 1454, 'grow': 1800, 'rcvd': 3433, 'state': 4038, 'tariff': 4227, 'perpetu': 3136, 'dd': 1013, 'steam': 4047, 'reg': 3482, 'pract': 3261, 'flung': 1543, 'public': 3360, 'justbeen': 2264, 'overa': 3043, 'mission': 2694, 'luxuri': 2534, 'canari': 635, 'island': 2165, 'lux': 2533, 'jame': 2190, 'mon': 2730, 'dare': 996, 'ben': 407, 'mag': 2555, 'avo': 297, 'middl': 2664, 'chachi': 691, 'tiz': 4373, 'kanagu': 2276, 'brat': 522, 'diwali': 1142, 'tick': 4351, 'abus': 15, 'netflix': 2851, 'thgt': 4311, 'arr': 229, 'rebtel': 3451, 'lower': 2513, 'footi': 1563, 'larg': 2362, 'dark': 997, 'teenag': 4251, 'paracetamol': 3076, 'cthen': 956, 'conclus': 857, 'cover': 919, 'instant': 2125, 'rugbi': 3596, 'affidavit': 65, 'twigg': 4493, 'divis': 1141, 'courtroom': 917, 'creep': 938, 'lil': 2429, 'possess': 3243, 'golden': 1741, 'ymca': 4925, 'wtc': 4865, 'weiyi': 4730, 'properti': 3342, 'interflora': 2134, 'romcapspam': 3575, 'presenc': 3284, 'sian': 3814, 'maggi': 2557, 'cough': 906, 'com': 822, 'miiiiiiissssssssss': 2667, 'iz': 2180, 'yellow': 4912, 'misscal': 2692, 'frndz': 1625, 'frog': 1628, 'wipro': 4789, 'tall': 4220, 'doubt': 1186, 'handl': 1845, 'note': 2911, 'aveng': 293, 'japanes': 2200, 'strike': 4083, 'toss': 4428, 'shortli': 3795, 'explicitli': 1411, 'nora': 2901, 'smith': 3891, 'crucifi': 950, 'but': 593, 'freedom': 1600, 'cedar': 680, 'twenti': 4491, 'durham': 1238, 'seat': 3690, 'porn': 3235, 'stopbcm': 4066, 'sf': 3743, 'paint': 3063, 'printer': 3305, 'groovi': 1798, 'shape': 3755, 'doinat': 1163, 'callon': 625, 'low': 2512, 'swatch': 4173, 'internet': 2137, 'ganesh': 1667, 'configur': 862, 'anal': 144, 'pear': 3115, 'sight': 3818, 'oooooh': 2993, 'resubmit': 3530, 'human': 2011, 'studyn': 4100, 'wuld': 4870, 'everyboy': 1372, 'xxxxxxxx': 4890, 'rd': 3434, 'student': 4096, 'flake': 1523, 'loko': 2471, 'tm': 4377, 'icon': 2040, 'fifth': 1491, 'woozl': 4831, 'cheaper': 714, 'machin': 2546, 'my': 2791, 'bruce': 560, 'down': 1189, 'fletcher': 1530, 'chest': 731, 'trend': 4458, 'brief': 536, 'descript': 1065, 'nuclear': 2928, 'fusion': 1652, 'histori': 1933, 'iter': 2171, 'jet': 2222, 'ikno': 2056, 'jabo': 2182, 'slower': 3877, 'idiot': 2046, 'sapna': 3636, 'maneg': 2580, 'swalpa': 4167, 'swell': 4182, 'sari': 3642, 'tim': 4360, 'bollox': 484, 'tol': 4394, 'poci': 3210, 'bell': 400, 'non': 2893, 'senor': 3719, 'giggl': 1709, 'profession': 3324, 'tiger': 4354, 'wood': 4827, 'reboot': 3450, 'understood': 4532, 'bottom': 508, 'disconnect': 1128, 'onluy': 2986, 'offcampu': 2954, 'ew': 1389, 'hm': 1942, 'salon': 3626, 'sankranti': 3633, 'republ': 3512, 'shivratri': 3780, 'ugadi': 4510, 'independ': 2093, 'festiv': 1481, 'dasara': 1003, 'rememberi': 3498, 'raj': 3406, 'lifei': 2420, 'daywith': 1012, 'somewheresomeon': 3926, 'tosend': 4426, 'tallent': 4222, 'usc': 4580, 'crab': 924, 'wave': 4703, 'footprint': 1564, 'fox': 1588, 'frndsship': 1624, 'dwn': 1243, 'slaaaaav': 3862, 'summon': 4133, 'appendix': 189, 'gudnit': 1811, 'webpag': 4713, 'yeesh': 4909, 'hunk': 2015, 'particip': 3090, 'admin': 46, 'abroad': 11, 'xxsp': 4883, 'stopcost': 4068, 'mat': 2601, 'ay': 308, 'andro': 149, 'foot': 1561, 'expert': 1407, 'thinl': 4319, 'fal': 1437, 'vth': 4662, 'yen': 4913, 'nav': 2822, 'nammanna': 2806, 'pretsovru': 3293, 'lord': 2489, 'soundtrack': 3950, 'emigr': 1304, 'olol': 2978, 'stagwood': 4025, 'winterston': 4787, 'victor': 4626, 'jp': 2248, 'pathaya': 3103, 'enketa': 1322, 'maraikara': 2587, 'priest': 3300, 'intrud': 2143, 'tuition': 4483, 'hun': 2012, 'walkabout': 4674, 'blow': 467, 'phil': 3150, 'classic': 776, 'thur': 4347, 'pre': 3273, 'sack': 3609, 'clip': 785, 'mmsto': 2710, 'twat': 4490, 'dungere': 1234, 'punch': 3365, 'mention': 2644, 'recd': 3453, 'inc': 2081, 'vat': 4607, 'hogolo': 1950, 'kodstini': 2329, 'agalla': 73, 'madstini': 2554, 'hogli': 1949, 'mutai': 2788, 'eerulli': 1272, 'thasa': 4295, 'mess': 2652, 'shudvetold': 3809, 'urgran': 4573, 'illspeak': 2061, 'tex': 4276, 'mecaus': 2626, 'okden': 2971, 'hunni': 2016, 'uin': 4513, 'likeyour': 2428, 'countinlot': 911, 'count': 909, 'hdd': 1882, 'describ': 1064, 'asu': 258, 'randomli': 3418, 'otsid': 3030, 'plumber': 3202, 'tape': 4226, 'wrench': 4854, 'appeal': 187, 'thriller': 4338, 'director': 1120, 'size': 3851, 'eleph': 1291, 'um': 4518, 'cr': 923, 'pooki': 3228, 'nri': 2923, 'tight': 4355, 'mouth': 2753, 'diddi': 1095, 'toothpast': 4415, 'av': 286, 'poke': 3215, 'everyday': 1373, 'canada': 634, 'curiou': 970, 'coccoon': 805, 'auto': 284, 'postcard': 3247, 'talkin': 4219, 'bread': 526, 'mahal': 2560, 'tirunelvai': 4367, 'dusk': 1239, 'puzzl': 3379, 'stair': 4026, 'dick': 1092, 'ding': 1114, 'tai': 4210, 'feng': 1480, 'swimsuit': 4185, 'necessari': 2832, 'watev': 4701, 'lik': 2426, 'frndshp': 1623, 'volcano': 4656, 'hurrican': 2019, 'sway': 4174, 'aroundn': 228, 'hw': 2026, 'disast': 1124, 'lighter': 2425, 'lasagna': 2364, 'asap': 239, 'sofa': 3909, 'woould': 4830, 'drove': 1212, 'shore': 3790, 'deu': 1077, 'tap': 4225, 'spile': 3983, 'broad': 547, 'raviyog': 3426, 'peripher': 3133, 'bhayandar': 427, 'east': 1255, 'sunoco': 4137, 'leftov': 2392, 'cheat': 715, 'fatti': 1459, 'badrith': 322, 'owe': 3051, 'yck': 4905, 'checkin': 719, 'armenia': 223, 'swann': 4169, 'howard': 1992, 'fromm': 1629, 'justifi': 2265, 'hava': 1874, 'thnq': 4325, 'adrian': 52, 'rgd': 3542, 'vatian': 4608, 'babysit': 315, 'gonnamissu': 1748, 'butther': 595, 'abouta': 10, 'merememberin': 2649, 'asther': 253, 'ofsi': 2962, 'breakin': 530, 'yaxx': 4902, 'ee': 1269, 'poortiyagi': 3232, 'hanumanji': 1853, 'janarig': 2194, 'ivatt': 2177, 'kalisidar': 2273, 'olag': 2975, 'ondu': 2982, 'maretar': 2589, 'ind': 2091, 'dodda': 1154, 'problum': 3319, 'nalli': 2804, 'siguviri': 3822, 'idu': 2049, 'matra': 2606, 'easili': 1254, 'ijust': 2054, 'happend': 1855, 'dl': 1144, 'selfish': 3711, 'spif': 3982, 'fml': 1547, 'supos': 4148, 'embassi': 1302, 'checkbox': 718, 'sac': 3607, 'theori': 4305, 'forgotten': 1574, 'revers': 3538, 'yifeng': 4922, 'minimum': 2679, 'ing': 2107, 'brainless': 519, 'vehicl': 4614, 'sariyag': 3644, 'madok': 2553, 'tiim': 4357, 'resiz': 3521, 'oppos': 3002, 'drunken': 1218, 'shortcod': 3793, 'overtim': 3047, 'dismissi': 1135, 'screwd': 3681, 'float': 1537, 'heehe': 1902, 'arithmet': 220, 'iknow': 2057, 'wellda': 4733, 'peril': 3131, 'studentfinanci': 4097, 'ia': 2030, 'obey': 2943, 'uhhhhrmm': 4512, 'enuff': 1334, 'deltomorrow': 1051, 'smartcal': 3883, 'landlineonli': 2353, 'callback': 618, 'orno': 3022, 'fink': 1508, 'carli': 655, 'youphon': 4935, 'athom': 261, 'youwanna': 4939, 'jack': 2183, 'pretend': 3292, 'hypotheticalhuagauahahuagahyuhagga': 2029, 'braini': 518, 'occas': 2947, 'reflect': 3477, 'cantdo': 642, 'anythingtomorrow': 174, 'mypar': 2792, 'aretak': 214, 'outfor': 3037, 'katexxx': 2285, 'level': 2409, 'lingeri': 2438, 'weddingfriend': 4717, 'board': 477, 'overh': 3046, 'inst': 2123, 'western': 4744, 'outta': 3041, 'nowaday': 2922, 'notixiqu': 2917, 'laxinorf': 2376, 'bambl': 332, 'oblising': 2944, 'masteriast': 2600, 'amplikat': 138, 'wotz': 4847, 'junna': 2262, 'knicker': 2323, 'divert': 1140, 'brilliant': 539, 'vill': 4637, 'orc': 3011, 'bloomberg': 466, 'seek': 3702, 'period': 3132, 'window': 4782, 'logoff': 2469, 'parkin': 3087, 'kent': 2291, 'asa': 238, 'westlif': 4745, 'princ': 3302, 'charm': 707, 'serv': 3730, 'arnt': 226, 'xxxxxxxxxxxxxx': 4891, 'granit': 1781, 'explos': 1412, 'nasdaq': 2812, 'symbol': 4195, 'cdgt': 679, 'all': 110, 'oru': 3024, 'pole': 3218, 'allalo': 112, 'fundament': 1646, 'nit': 2879, 'js': 2249, 'burgundi': 586, 'captain': 647, 'base': 349, 'placement': 3182, 'amrita': 140, 'profil': 3326, 'persev': 3137, 'apologis': 184, 'spous': 4006, 'pmt': 3206, 'shldxxxx': 3782, 'scenario': 3664, 'tx': 4498, 'fonin': 1558, 'frmcloud': 1620, 'oic': 2966, 'airtel': 90, 'broadband': 548, 'process': 3321, 'tens': 4268, 'sooner': 3937, 'lt': 2519, 'sprint': 4011, 'prolli': 3330, 'gower': 1769, 'filth': 1498, 'saristar': 3643, 'mobcudb': 2716, 'jaya': 2204, 'inperson': 2116, 'flea': 1529, 'banneduk': 340, 'highest': 1925, 'maximum': 2612, 'taj': 4212, 'lesser': 2405, 'known': 2326, 'mumtaz': 2779, 'shahjahan': 3747, 'husband': 2021, 'aris': 219, 'pari': 3084, 'webadr': 4711, 'gete': 1699, 'incred': 2090, 'passport': 3098, 'multipli': 2775, 'decim': 1026, 'twin': 4495, 'maga': 2556, 'strt': 4089, 'equal': 1338, 'unev': 4537, 'peski': 3142, 'cyclist': 982, 'nalla': 2803, 'adi': 45, 'entey': 1328, 'nattil': 2819, 'kittum': 2319, 'kavalan': 2286, 'hire': 1932, 'hitman': 1936, 'august': 279, 'mood': 2739, 'cp': 922, 'outag': 3035, 'conserv': 872, 'jordan': 2244, 'dubsack': 1224, 'individu': 2097, 'macho': 2547, 'interfu': 2135, 'apolog': 183, 'hustl': 2023, 'forth': 1578, 'audit': 276, 'workout': 4837, 'zac': 4950, 'hui': 2008, 'xin': 4877, 'versu': 4620, 'underdtand': 4530, 'muchxxlov': 2771, 'locaxx': 2463, 'skateboard': 3852, 'despit': 1071, 'thrown': 4342, 'bandag': 335, 'html': 2000, 'hectic': 1900, 'fell': 1477, 'wamma': 4681, 'doggin': 1160, 'virtual': 4646, 'senthil': 3724, 'apnt': 181, 'suck': 4118, 'mere': 2648, 'gudnyt': 1812, 'sweetheart': 4180, 'bun': 580, 'plum': 3201, 'alot': 117, 'attract': 272, 'promot': 3335, 'vega': 4612, 'lou': 2500, 'neway': 2858, 'bsn': 562, 'lobbi': 2460, 'vewi': 4621, 'specifi': 3971, 'domain': 1168, 'vale': 4596, 'bari': 345, 'hudgi': 2003, 'yorg': 4930, 'pataistha': 3101, 'ertini': 1345, 'commerci': 831, 'jump': 2259, 'hoop': 1971, 'rip': 3556, 'pool': 3229, 'jacuzzi': 2186, 'uve': 4591, 'wildest': 4776, 'whr': 4767, 'rakhesh': 3411, 'rtm': 3589, 'neces': 2830, 'witout': 4803, 'wth': 4867, 'wthout': 4868, 'raja': 3407, 'itz': 2176, 'confirmd': 864, 'cnn': 799, 'stitch': 4060, 'trouser': 4465, 'cheeto': 726, 'peni': 3123, 'sync': 4198, 'forevr': 1569, 'goodfriend': 1751, 'holder': 1953, 'loung': 2502, 'poo': 3227, 'gloucesterroad': 1726, 'uup': 4589, 'ouch': 3032, 'fruit': 1633, 'glo': 1723, 'wlcome': 4811, 'eaten': 1259, 'timi': 4362, 'mtalk': 2765, 'fishrman': 1515, 'ful': 1640, 'strtd': 4090, 'throwin': 4341, 'thm': 4323, 'atlast': 263, 'physic': 3160, 'delici': 1048, 'salad': 3620, 'desert': 1066, 'whore': 4765, 'funk': 1648, 'skin': 3854, 'jock': 2235, 'flood': 1538, 'prove': 3347, 'bead': 372, 'wishlist': 4794, 'section': 3697, 'nitro': 2881, 'sold': 3914, 'reffer': 3475, 'geti': 1700, 'weirdi': 4729, 'restrict': 3528, 'funer': 1647, 'audrey': 277, 'msging': 2763, 'protect': 3346, 'sib': 3815, 'sensit': 3721, 'someday': 3917, 'grandfath': 1779, 'blu': 469, 'concert': 856, 'novemb': 2921, 'yuou': 4948, 'spot': 4005, 'bunch': 581, 'lotto': 2498, 'authoris': 283, 'erm': 1342, 'gimmi': 1711, 'sublet': 4109, 'lambu': 2350, 'ji': 2225, 'batchlor': 354, 'zoom': 4956, 'stopc': 4067, 'pink': 3175, 'xafter': 4874, 'cst': 954, 'pure': 3370, 'smiley': 3890, 'gail': 1658, 'yaxxx': 4903, 'theoret': 4304, 'multimedia': 2774, 'delay': 1045, 'agenc': 75, 'nicki': 2870, 'chees': 724, 'tarpon': 4229, 'cab': 606, 'xxxxx': 4887, 'proper': 3340, 'tongu': 4408, 'suddenli': 4120, 'flurri': 1544, 'melt': 2638, 'pushbutton': 3375, 'dontcha': 1173, 'babygoodby': 314, 'golddigg': 1740, 'webeburnin': 4712, 'nigh': 2873, 'nooooooo': 2898, 'cabl': 608, 'playin': 3190, 'guoyang': 1818, 'rahul': 3401, 'antelop': 163, 'toplay': 4419, 'fieldof': 1488, 'selfindepend': 3710, 'gnarl': 1729, 'barkley': 346, 'borderlin': 499, 'gentl': 1689, 'nightnight': 2875, 'groov': 1797, 'affair': 63, 'mise': 2687, 'refus': 3481, 'secur': 3698, 'lanr': 2356, 'eckankar': 1263, 'heater': 1896, 'dodgey': 1155, 'mth': 2766, 'unsold': 4554, 'ceri': 687, 'dreamz': 1200, 'ringtonek': 3554, 'nationwid': 2818, 'newport': 2860, 'suitem': 4128, 'ow': 3050, 'mall': 2572, 'nose': 2908, 'essay': 1353, 'cousin': 918, 'vic': 4625, 'tripl': 4462, 'echo': 1262, 'eek': 1270, 'pie': 3166, 'gran': 1777, 'onlyfound': 2987, 'afew': 62, 'honi': 1966, 'dial': 1087, 'univers': 4545, 'southern': 3954, 'rayan': 3429, 'macleran': 2549, 'olav': 2976, 'mandara': 2577, 'kano': 2279, 'trishul': 4463, 'woo': 4826, 'hoo': 1967, 'thout': 4333, 'flatter': 1527, 'pint': 3176, 'carlin': 656, 'liter': 2449, 'starv': 4036, 'wknd': 4810, 'yalrigu': 4895, 'kothi': 2335, 'yiju': 4923, 'esaplanad': 1347, 'sem': 3713, 'enna': 1323, 'coco': 808, 'sporad': 4001, 'burden': 584, 'harder': 1863, 'nbme': 2824, 'villa': 4638, 'sathya': 3648, 'gam': 1663, 'soup': 3951, 'tip': 4365, 'penni': 3124, 'fite': 1517, 'abi': 5, 'mj': 2702, 'unconvinc': 4527, 'willpow': 4779, 'answerin': 162, 'sleepi': 3866, 'evey': 1379, 'mnth': 2712, 'prin': 3301, 'spam': 3962, 'ashwini': 242, 'skinni': 3855, 'hockey': 1948, 'elect': 1289, 'hlday': 1940, 'camp': 631, 'amrca': 139, 'prescrib': 3281, 'morphin': 2743, 'kappa': 2280, 'law': 2375, 'meatbal': 2625, 'approv': 198, 'spjanuari': 3987, 'fortun': 1579, 'meh': 2633, 'familiar': 1442, 'infact': 2099, 'simpson': 3830, 'band': 334, 'kip': 2314, 'amanda': 127, 'handset': 1846, 'subject': 4108, 'nanni': 2809, 'perspect': 3140, 'debat': 1022, 'jb': 2208, 'florida': 1539, 'wisdom': 4790, 'teeth': 4252, 'hidden': 1922, 'royal': 3585, 'tog': 4387, 'swhrt': 4183, 'calicut': 615, 'jetton': 2223, 'cmon': 796, 'sticki': 4056, 'wyli': 4873, 'dealer': 1017, 'lunsford': 2530, 'prizeawait': 3312, 'kfc': 2299, 'oi': 2965, 'mw': 2790, 'tuth': 4488, 'evict': 1380, 'spiral': 3985, 'michael': 2662, 'riddanc': 3546, 'suffer': 4122, 'silenc': 3823, 'raglan': 3400, 'edward': 1268, 'closebi': 788, 'skye': 3859, 'bookedth': 492, 'indic': 2096, 'garment': 1674, 'arab': 207, 'eshxxxxxxxxxxx': 1350, 'bimbo': 437, 'toshiba': 4427, 'porteg': 3237, 'semiobscur': 3716, 'gpr': 1770, 'loosu': 2487, 'myspac': 2793, 'method': 2657, 'blur': 474, 'breaker': 528, 'delux': 1052, 'featur': 1469, 'graphic': 1783, 'bbdelux': 361, 'stone': 4063, 'weekday': 4722, 'nail': 2801, 'drivin': 1208, 'common': 833, 'greatest': 1791, 'defeat': 1038, 'stil': 4058, 'tobe': 4384, 'pimpl': 3173, 'natalja': 2816, 'asthma': 254, 'ball': 330, 'spin': 3984, 'prsn': 3351, 'somtim': 3929, 'quiet': 3390, 'scienc': 3669, 'loss': 2492, 'audiit': 275, 'pock': 3211, 'brison': 543, 'languag': 2355, 'bullshit': 579, 'drunk': 1217, 'motherfuck': 2747, 'kit': 2317, 'oja': 2968, 'anonym': 158, 'mask': 2597, 'woodland': 4828, 'avenu': 295, 'parish': 3085, 'billi': 434, 'awww': 305, 'useless': 4582, 'loo': 2481, 'swollen': 4189, 'gland': 1721, 'previou': 3296, 'bcaz': 364, 'stu': 4092, 'trubl': 4466, 'evon': 1384, 'bck': 365, 'mokka': 2727, 'view': 4633, 'dual': 1222, 'hostil': 1983, 'breezi': 532, 'polyh': 3223, 'bone': 487, 'problm': 3318, 'litr': 2450, 'diseas': 1132, 'snd': 3901, 'manki': 2583, 'scous': 3676, 'inmind': 2110, 'recreat': 3468, 'epsilon': 1337, 'mesag': 2651, 'waheeda': 4666, 'bot': 505, 'eventu': 1368, 'toler': 4396, 'lst': 2518, 'nitw': 2882, 'texd': 4278, 'hopeu': 1975, 'jaz': 2206, 'exorc': 1403, 'emili': 1305, 'evri': 1387, 'emot': 1306, 'ujhhhhhhh': 4514, 'sandiago': 3631, 'parantella': 3080, 'sweater': 4177, 'mango': 2581, 'massiv': 2598, 'barri': 348, 'consent': 871, 'form': 1576, 'tonex': 4406, 'polo': 3221, 'mathew': 2605, 'tait': 4211, 'anderson': 147, 'haunt': 1872, 'hex': 1918, 'crowd': 947, 'snowboard': 3905, 'christmassi': 762, 'recpt': 3467, 'shola': 3785, 'medicin': 2629, 'academ': 17, 'secretari': 3695, 'sagamu': 3616, 'vital': 4649, 'browser': 558, 'convers': 884, 'headset': 1887, 'intern': 2136, 'extract': 1417, 'skint': 3856, 'watchng': 4698, 'planet': 3186, 'taunton': 4235, 'frequent': 1610, 'cupboard': 968, 'rout': 3583, 'lib': 2412, 'snappi': 3899, 'risk': 3558, 'grasp': 1784, 'flavour': 1528, 'lareadi': 2361, 'deni': 1056, 'dom': 1167, 'ffffuuuuuuu': 1484, 'oblivi': 2945, 'upset': 4564, 'mapquest': 2586, 'dogwood': 1161, 'tini': 4364, 'mg': 2659, 'behalf': 394, 'visa': 4647, 'gucci': 1809, 'culdnt': 963, 'talkbut': 4218, 'wannatel': 4685, 'wenwecan': 4739, 'smsing': 3894, 'explicit': 1410, 'erutupalam': 1346, 'thandiyachu': 4288, 'invent': 2145, 'nevr': 2856, 'somon': 3928, 'definitli': 1041, 'undrstnd': 4534, 'ger': 1696, 'toke': 4392, 'syd': 4193, 'khelat': 2301, 'kintu': 2313, 'opponent': 3000, 'dhort': 1085, 'looovvv': 2485, 'grandma': 1780, 'parad': 3078, 'proze': 3350, 'norcorp': 2902, 'grumbl': 1804, 'linear': 2436, 'algebra': 106, 'roomat': 3578, 'graduat': 1774, 'cooper': 892, 'nottingham': 2918, 'thanku': 4292, 'string': 4084, 'otbox': 3027, 'besid': 414, 'brisk': 542, 'sexiest': 3740, 'dirtiest': 1122, 'steve': 4053, 'tellmiss': 4259, 'contribut': 882, 'greatli': 1792, 'coach': 801, 'duvet': 1240, 'url': 4575, 'weight': 4726, 'beverag': 421, 'surrend': 4160, 'symptom': 4197, 'rdi': 3435, 'avin': 296, 'logon': 2470, 'quiteamuz': 3392, 'cu': 958, 'satthen': 3651, 'psxtra': 3354, 'lrg': 2517, 'portion': 3238, 'fixd': 1520, 'njan': 2883, 'chapter': 701, 'chop': 755, 'noooooooo': 2899, 'firsg': 1511, 'split': 3992, 'wasnt': 4693, 'heat': 1895, 'oil': 2967, 'sumf': 4131, 'hopeso': 1974, 'amnow': 133, 'feelin': 1475, 'ithink': 2172, 'layin': 2378, 'bedreal': 384, 'lotsof': 2496, 'hiphop': 1931, 'resort': 3522, 'roller': 3573, 'pend': 3122, 'cannam': 639, 'capit': 645, 'mquiz': 2756, 'shoe': 3784, 'showr': 3803, 'presnt': 3287, 'bcz': 369, 'irulina': 2162, 'neekunna': 2841, 'prakasamanu': 3267, 'prakasam': 3266, 'ennal': 1324, 'prabha': 3259, 'mn': 2711, 'adventur': 57, 'firmwar': 1510, 'vijaykanth': 4635, 'comedi': 826, 'anythi': 172, 'btwn': 567, 'gover': 1768, 'loyal': 2515, 'spice': 3980, 'prasanth': 3270, 'ettan': 1359, 'appi': 190, 'contain': 878, 'cancer': 637, 'genu': 1692, 'robinson': 3566, 'out': 3034, 'soz': 3956, 'imat': 2066, 'freind': 1607, 'wewa': 4748, 'iriv': 2159, 'bw': 602, 'surli': 4157, 'dumb': 1231, 'mmmmmmm': 2709, 'scrape': 3677, 'barrel': 347, 'misfit': 2689, 'cake': 611, 'rayman': 3430, 'golf': 1743, 'termsappli': 4271, 'minor': 2681, 'shindig': 3772, 'phonebook': 3155, 'offens': 2956, 'dvg': 1242, 'vinobanagar': 4640, 'orh': 3019, 'canteen': 643, 'bedrm': 385, 'assist': 251, 'when': 4754, 'built': 577, 'lonlin': 2480, 'lotz': 2499, 'gailxx': 1659, 'repeat': 3506, 'financ': 1502, 'miwa': 2701, 'jiayin': 2227, 'woulda': 4850, 'opposit': 3003, 'heavili': 1899, 'doll': 1165, 'patrick': 3105, 'swayz': 4175, 'santa': 3634, 'miser': 2688, 'paperwork': 3075, 'nervou': 2848, 'limp': 2433, 'aa': 0, 'poorli': 3231, 'brb': 524, 'prescript': 3283, 'smaller': 3881, 'capac': 644, 'fgkslpopw': 1486, 'fgkslpo': 1485, 'defer': 1039, 'admiss': 49, 'chess': 730, 'persian': 3138, 'phrase': 3159, 'pee': 3116, 'california': 616, 'shoppin': 3788, 'inshah': 2120, 'allah': 111, 'ashley': 241, 'increas': 2089, 'north': 2906, 'carolina': 659, 'texa': 4277, 'gre': 1789, 'stretch': 4080, 'bomb': 486, 'weapon': 4706, 'customercar': 976, 'lit': 2448, 'fire': 1509, 'loooooool': 2484, 'dokey': 1164, 'swashbuckl': 4171, 'nuther': 2934, 'happiest': 1859, 'crisi': 944, 'antibiot': 165, 'abdomen': 4, 'gyna': 1826, 'infect': 2100, 'expos': 1413, 'chastiti': 710, 'devic': 1079, 'beat': 374, 'effect': 1273, 'gut': 1820, 'sake': 3619, 'tallahasse': 4221, 'ou': 3031, 'taka': 4213, 'wrote': 4862, 'ritten': 3560, 'fold': 1550, 'warner': 4691, 'colin': 814, 'farrel': 1450, 'swat': 4172, 'mre': 2758, 'nh': 2865, 'inconveni': 2088, 'dentist': 1058, 'henri': 1914, 'yard': 4900, 'bergkamp': 413, 'margin': 2590, 'hooch': 1968, 'toaday': 4383, 'graze': 1788, 'knee': 2321, 'hearin': 1893, 'tortur': 4425, 'sexychat': 3742, 'chapel': 700, 'mountain': 2751, 'deer': 1035, 'varma': 4605, 'fart': 1451, 'ortxt': 3023, 'advisor': 60, 'diall': 1088, 'woot': 4829, 'iouri': 2152, 'kaila': 2271, 'donat': 1169, 'asian': 243, 'fund': 1645, 'cme': 795, 'collaps': 816, 'jade': 2188, 'thinkthi': 4318, 'danger': 994, 'goldvik': 1742, 'coulda': 908, 'phoni': 3156, 'eta': 1356, 'buz': 599, 'outsomewher': 3039, 'adrink': 53, 'fromwrk': 1630, 'esplanad': 1352, 'ayo': 310, 'freeentri': 1601, 'xt': 4880, 'toyota': 4438, 'camri': 633, 'mileag': 2669, 'clover': 792, 'puppi': 3367, 'nois': 2889, 'sarasota': 3639, 'deepest': 1034, 'darkest': 999, 'adsens': 54, 'perumbavoor': 3141, 'stage': 4024, 'cherish': 729, 'clarifi': 774, 'prepon': 3280, 'natali': 2815, 'younger': 4934, 'wallpap': 4678, 'ic': 2036, 'loneli': 2477, 'skyve': 3861, 'thangam': 4289, 'onword': 2991, 'mtnl': 2767, 'accommodationvouch': 25, 'mustprovid': 2787, 'rajitha': 3409, 'disagre': 1123, 'alett': 102, 'thatmum': 4297, 'gotmarri': 1763, 'ourback': 3033, 'rearrang': 3448, 'dormitori': 1179, 'astronom': 257, 'starer': 4034, 'recount': 3465, 'hitler': 1935, 'eleven': 1292, 'worm': 4839, 'dysentri': 1244, 'gokila': 1738, 'exchang': 1396, 'uncut': 4529, 'dino': 1116, 'kote': 2334, 'panther': 3071, 'zebra': 4951, 'badass': 320, 'hoodi': 1969, 'resent': 3517, 'queri': 3386, 'hassl': 1868, 'andr': 148, 'haughaighgtujhyguj': 1870, 'blacko': 453, 'londn': 2474, 'vco': 4610, 'tohar': 4389, 'beeen': 387, 'muht': 2773, 'albi': 99, 'mufti': 2772, 'enufcredeit': 1333, 'ileav': 2059, 'goigng': 1736, 'sday': 3685, 'franki': 1593, 'benni': 412, 'diaper': 1091, 'unlik': 4548, 'patient': 3104, 'unintent': 4542, 'garden': 1672, 'bulb': 578, 'seed': 3701, 'scotsman': 3675, 'wenev': 4737, 'stabil': 4021, 'tranquil': 4446, 'vibrant': 4623, 'bawl': 358, 'failur': 1432, 'velusami': 4616, 'facil': 1425, 'karnan': 2282, 'bluray': 475, 'wound': 4851, 'geoenvironment': 1694, 'gentli': 1691, 'fuuuuck': 1654, 'salmon': 3625, 'ree': 3471, 'compens': 840, 'splash': 3990, 'difficulti': 1104, 'musta': 2785, 'overdid': 3044, 'port': 3236, 'step': 4049, 'juswok': 2267, 'boatin': 479, 'aha': 80, 'uworld': 4594, 'qbank': 3381, 'assess': 250, 'someonon': 3919, 'tke': 4374, 'temal': 4261, 'dull': 1230, 'swoop': 4190, 'treadmil': 4453, 'craigslist': 926, 'absolut': 12, 'swan': 4168, 'sall': 3624, 'hehe': 1903, 'clearli': 781, 'foward': 1586, 'misundrstud': 2699, 'gene': 1686, 'mumha': 2777, 'beendrop': 388, 'favorit': 1463, 'topic': 4418, 'aah': 1, 'heaven': 1897, 'aquariu': 205, 'steyn': 4054, 'sterm': 4052, 'hannaford': 1852, 'wheat': 4752, 'chex': 732, 'grownup': 1802, 'textcomp': 4283, 'subsequ': 4115, 'bottl': 507, 'mentor': 2645, 'percent': 3127, 'erot': 1343, 'paus': 3108, 'psp': 3353, 'websit': 4714, 'spacebuck': 3959, 'squeez': 4014, 'dread': 1198, 'thou': 4329, 'forgt': 1575, 'ajith': 95, 'ooooooh': 2994, 'yovil': 4940, 'mega': 2632, 'asda': 240, 'respect': 3523, 'bff': 425, 'brolli': 551, 'franxx': 1594, 'prometazin': 3331, 'shu': 3807, 'singapor': 3836, 'victoria': 4627, 'album': 100, 'pocay': 3209, 'wocay': 4816, 'coast': 802, 'broth': 552, 'ramen': 3415, 'fowler': 1587, 'flew': 1531, 'attent': 270, 'tix': 4372, 'fne': 1548, 'youdo': 4931, 'worc': 4832, 'foreg': 1566, 'shrub': 3806, 'legitimat': 2395, 'efreefon': 1274, 'toilet': 4390, 'cop': 893, 'navig': 2823, 'chick': 735, 'sparkl': 3965, 'loud': 2501, 'gyno': 1827, 'treasur': 4454, 'neg': 2843, 'dhoni': 1084, 'li': 2410, 'yeovil': 4914, 'motor': 2749, 'rhode': 3543, 'bong': 488, 'ofcours': 2952, 'marvel': 2596, 'spider': 3981, 'apo': 182, 'perhap': 3130, 'endless': 1312, 'machan': 2545, 'young': 4933, 'referin': 3474, 'mile': 2668, 'saibaba': 3617, 'colani': 812, 'declar': 1029, 'compliment': 847, 'gsex': 1806, 'chatlin': 712, 'inclu': 2083, 'bailiff': 326, 'mous': 2752, 'desk': 1068, 'durban': 1237, 'childporn': 740, 'cribb': 941, 'spiritu': 3986, 'sudden': 4119, 'influx': 2102, 'kane': 2277, 'shud': 3808, 'dental': 1057, 'nmde': 2884, 'dump': 1232}\n",
      "  (0, 1730)\t1\n",
      "  (0, 2263)\t1\n",
      "  (0, 288)\t1\n",
      "  (0, 575)\t1\n",
      "  (0, 1790)\t1\n",
      "  (0, 4838)\t1\n",
      "  (0, 2342)\t1\n",
      "  (0, 765)\t1\n",
      "  (0, 1760)\t1\n",
      "  (0, 136)\t1\n",
      "  (1, 2969)\t1\n",
      "  (1, 2239)\t1\n",
      "  (1, 4770)\t1\n",
      "  (2, 1599)\t1\n",
      "  (2, 1332)\t2\n",
      "  (2, 4809)\t1\n",
      "  (2, 835)\t1\n",
      "  (2, 4780)\t1\n",
      "  (2, 1420)\t2\n",
      "  (2, 967)\t1\n",
      "  (2, 1500)\t1\n",
      "  (2, 4375)\t1\n",
      "  (2, 2613)\t1\n",
      "  (2, 4279)\t1\n",
      "  (2, 3455)\t1\n",
      "  :\t:\n",
      "  (5567, 770)\t1\n",
      "  (5567, 617)\t1\n",
      "  (5567, 3253)\t1\n",
      "  (5567, 4459)\t1\n",
      "  (5567, 4361)\t1\n",
      "  (5567, 877)\t1\n",
      "  (5568, 1730)\t1\n",
      "  (5568, 1590)\t1\n",
      "  (5568, 1352)\t1\n",
      "  (5569, 2739)\t1\n",
      "  (5570, 1599)\t1\n",
      "  (5570, 2427)\t1\n",
      "  (5570, 4721)\t1\n",
      "  (5570, 2864)\t1\n",
      "  (5570, 4578)\t1\n",
      "  (5570, 597)\t1\n",
      "  (5570, 1295)\t1\n",
      "  (5570, 1677)\t1\n",
      "  (5570, 3920)\t1\n",
      "  (5570, 1821)\t1\n",
      "  (5570, 2133)\t1\n",
      "  (5570, 32)\t1\n",
      "  (5570, 448)\t1\n",
      "  (5571, 2805)\t1\n",
      "  (5571, 4468)\t1\n"
     ]
    }
   ],
   "source": [
    "from sklearn.feature_extraction.text import CountVectorizer\n",
    "cv = CountVectorizer()\n",
    "\n",
    "bow = cv.fit_transform(df['message'])\n",
    "print(cv.vocabulary_)\n",
    "print(bow)"
   ]
  },
  {
   "cell_type": "code",
   "execution_count": 8,
   "metadata": {},
   "outputs": [
    {
     "name": "stdout",
     "output_type": "stream",
     "text": [
      "  (0, 4838)\t0.2834661680965146\n",
      "  (0, 2342)\t0.38186323000297545\n",
      "  (0, 2263)\t0.40002094394580645\n",
      "  (0, 1790)\t0.23317532853368536\n",
      "  (0, 1760)\t0.18831701679530102\n",
      "  (0, 1730)\t0.1631994811948361\n",
      "  (0, 765)\t0.3439191705373717\n",
      "  (0, 575)\t0.35082241299257605\n",
      "  (0, 288)\t0.30978868489827155\n",
      "  (0, 136)\t0.40002094394580645\n",
      "  (1, 4770)\t0.5721974541660467\n",
      "  (1, 2969)\t0.41363998716437816\n",
      "  (1, 2239)\t0.708161022977506\n",
      "  (2, 4809)\t0.22816691435422334\n",
      "  (2, 4780)\t0.17597375204400065\n",
      "  (2, 4499)\t0.15244056303185957\n",
      "  (2, 4375)\t0.26440283111162705\n",
      "  (2, 4279)\t0.14494798837797335\n",
      "  (2, 3455)\t0.19500143186733102\n",
      "  (2, 2613)\t0.1926722277308313\n",
      "  (2, 1599)\t0.14289654890815606\n",
      "  (2, 1500)\t0.20317589950923967\n",
      "  (2, 1420)\t0.5625031458055175\n",
      "  (2, 1332)\t0.43106909152203177\n",
      "  (2, 967)\t0.24154051308144245\n",
      "  :\t:\n",
      "  (5567, 4361)\t0.3307113444945496\n",
      "  (5567, 3253)\t0.46924448848500283\n",
      "  (5567, 3126)\t0.4199044921210126\n",
      "  (5567, 877)\t0.39700745498902473\n",
      "  (5567, 770)\t0.3742143380838325\n",
      "  (5567, 617)\t0.24514806498065445\n",
      "  (5568, 1730)\t0.31387623119906427\n",
      "  (5568, 1590)\t0.601748717029144\n",
      "  (5568, 1352)\t0.7344250765340538\n",
      "  (5569, 2739)\t1.0\n",
      "  (5570, 4721)\t0.23157024578251786\n",
      "  (5570, 4578)\t0.2526416910535179\n",
      "  (5570, 3920)\t0.2517800935906801\n",
      "  (5570, 2864)\t0.24617633047455634\n",
      "  (5570, 2427)\t0.18542373145126734\n",
      "  (5570, 2133)\t0.3348335942508887\n",
      "  (5570, 1821)\t0.249291354869773\n",
      "  (5570, 1677)\t0.3207035235126017\n",
      "  (5570, 1599)\t0.19223166783256995\n",
      "  (5570, 1295)\t0.3100029520033766\n",
      "  (5570, 597)\t0.2439756707924089\n",
      "  (5570, 448)\t0.36558914124653885\n",
      "  (5570, 32)\t0.3475982995649163\n",
      "  (5571, 4468)\t0.7560775670183152\n",
      "  (5571, 2805)\t0.6544820185854346\n",
      "(5572, 4959)\n"
     ]
    }
   ],
   "source": [
    "from sklearn.feature_extraction.text import TfidfTransformer\n",
    "tfidf_transformer = TfidfTransformer()\n",
    "\n",
    "tfidf = tfidf_transformer.fit_transform(bow)\n",
    "print(tfidf)\n",
    "print(tfidf.shape)"
   ]
  },
  {
   "cell_type": "code",
   "execution_count": 9,
   "metadata": {},
   "outputs": [
    {
     "name": "stdout",
     "output_type": "stream",
     "text": [
      "[[0. 0. 0. ... 0. 0. 0.]\n",
      " [0. 0. 0. ... 0. 0. 0.]\n",
      " [0. 0. 0. ... 0. 0. 0.]\n",
      " ...\n",
      " [0. 0. 0. ... 0. 0. 0.]\n",
      " [0. 0. 0. ... 0. 0. 0.]\n",
      " [0. 0. 0. ... 0. 0. 0.]]\n",
      "['ham' 'ham' 'spam' ... 'ham' 'ham' 'ham']\n"
     ]
    }
   ],
   "source": [
    "X = np.array(tfidf.toarray())\n",
    "Y = np.array(df.iloc[:, 0].values)\n",
    "print(X)\n",
    "print(Y)"
   ]
  },
  {
   "cell_type": "code",
   "execution_count": 10,
   "metadata": {},
   "outputs": [],
   "source": [
    "from sklearn.model_selection import train_test_split\n",
    "X_train, X_test, Y_train, Y_test = train_test_split(X, Y, test_size=0.3, random_state=0)"
   ]
  },
  {
   "cell_type": "code",
   "execution_count": 11,
   "metadata": {},
   "outputs": [
    {
     "data": {
      "text/plain": [
       "MultinomialNB()"
      ]
     },
     "execution_count": 11,
     "metadata": {},
     "output_type": "execute_result"
    }
   ],
   "source": [
    "from sklearn.naive_bayes import MultinomialNB\n",
    "classifier = MultinomialNB()\n",
    "classifier.fit(X_train, Y_train)\n"
   ]
  },
  {
   "cell_type": "code",
   "execution_count": 12,
   "metadata": {},
   "outputs": [],
   "source": [
    "Y_pred = classifier.predict(X_test)"
   ]
  },
  {
   "cell_type": "code",
   "execution_count": 13,
   "metadata": {},
   "outputs": [
    {
     "data": {
      "text/plain": [
       "array([[1451,    0],\n",
       "       [  71,  150]], dtype=int64)"
      ]
     },
     "execution_count": 13,
     "metadata": {},
     "output_type": "execute_result"
    }
   ],
   "source": [
    "from sklearn.metrics import confusion_matrix\n",
    "cm = confusion_matrix(Y_test, Y_pred)\n",
    "cm"
   ]
  },
  {
   "cell_type": "code",
   "execution_count": 14,
   "metadata": {},
   "outputs": [
    {
     "data": {
      "text/plain": [
       "0.9575358851674641"
      ]
     },
     "execution_count": 14,
     "metadata": {},
     "output_type": "execute_result"
    }
   ],
   "source": [
    "accuracy = (cm[0][0] + cm[1][1]) / (cm[0][0] + cm[0][1] + cm[1][0] + cm[1][1])\n",
    "accuracy"
   ]
  },
  {
   "cell_type": "markdown",
   "metadata": {},
   "source": [
    "# Question 2"
   ]
  },
  {
   "cell_type": "code",
   "execution_count": 15,
   "metadata": {},
   "outputs": [
    {
     "data": {
      "text/plain": [
       "{'data': array([[5.1, 3.5, 1.4, 0.2],\n",
       "        [4.9, 3. , 1.4, 0.2],\n",
       "        [4.7, 3.2, 1.3, 0.2],\n",
       "        [4.6, 3.1, 1.5, 0.2],\n",
       "        [5. , 3.6, 1.4, 0.2],\n",
       "        [5.4, 3.9, 1.7, 0.4],\n",
       "        [4.6, 3.4, 1.4, 0.3],\n",
       "        [5. , 3.4, 1.5, 0.2],\n",
       "        [4.4, 2.9, 1.4, 0.2],\n",
       "        [4.9, 3.1, 1.5, 0.1],\n",
       "        [5.4, 3.7, 1.5, 0.2],\n",
       "        [4.8, 3.4, 1.6, 0.2],\n",
       "        [4.8, 3. , 1.4, 0.1],\n",
       "        [4.3, 3. , 1.1, 0.1],\n",
       "        [5.8, 4. , 1.2, 0.2],\n",
       "        [5.7, 4.4, 1.5, 0.4],\n",
       "        [5.4, 3.9, 1.3, 0.4],\n",
       "        [5.1, 3.5, 1.4, 0.3],\n",
       "        [5.7, 3.8, 1.7, 0.3],\n",
       "        [5.1, 3.8, 1.5, 0.3],\n",
       "        [5.4, 3.4, 1.7, 0.2],\n",
       "        [5.1, 3.7, 1.5, 0.4],\n",
       "        [4.6, 3.6, 1. , 0.2],\n",
       "        [5.1, 3.3, 1.7, 0.5],\n",
       "        [4.8, 3.4, 1.9, 0.2],\n",
       "        [5. , 3. , 1.6, 0.2],\n",
       "        [5. , 3.4, 1.6, 0.4],\n",
       "        [5.2, 3.5, 1.5, 0.2],\n",
       "        [5.2, 3.4, 1.4, 0.2],\n",
       "        [4.7, 3.2, 1.6, 0.2],\n",
       "        [4.8, 3.1, 1.6, 0.2],\n",
       "        [5.4, 3.4, 1.5, 0.4],\n",
       "        [5.2, 4.1, 1.5, 0.1],\n",
       "        [5.5, 4.2, 1.4, 0.2],\n",
       "        [4.9, 3.1, 1.5, 0.2],\n",
       "        [5. , 3.2, 1.2, 0.2],\n",
       "        [5.5, 3.5, 1.3, 0.2],\n",
       "        [4.9, 3.6, 1.4, 0.1],\n",
       "        [4.4, 3. , 1.3, 0.2],\n",
       "        [5.1, 3.4, 1.5, 0.2],\n",
       "        [5. , 3.5, 1.3, 0.3],\n",
       "        [4.5, 2.3, 1.3, 0.3],\n",
       "        [4.4, 3.2, 1.3, 0.2],\n",
       "        [5. , 3.5, 1.6, 0.6],\n",
       "        [5.1, 3.8, 1.9, 0.4],\n",
       "        [4.8, 3. , 1.4, 0.3],\n",
       "        [5.1, 3.8, 1.6, 0.2],\n",
       "        [4.6, 3.2, 1.4, 0.2],\n",
       "        [5.3, 3.7, 1.5, 0.2],\n",
       "        [5. , 3.3, 1.4, 0.2],\n",
       "        [7. , 3.2, 4.7, 1.4],\n",
       "        [6.4, 3.2, 4.5, 1.5],\n",
       "        [6.9, 3.1, 4.9, 1.5],\n",
       "        [5.5, 2.3, 4. , 1.3],\n",
       "        [6.5, 2.8, 4.6, 1.5],\n",
       "        [5.7, 2.8, 4.5, 1.3],\n",
       "        [6.3, 3.3, 4.7, 1.6],\n",
       "        [4.9, 2.4, 3.3, 1. ],\n",
       "        [6.6, 2.9, 4.6, 1.3],\n",
       "        [5.2, 2.7, 3.9, 1.4],\n",
       "        [5. , 2. , 3.5, 1. ],\n",
       "        [5.9, 3. , 4.2, 1.5],\n",
       "        [6. , 2.2, 4. , 1. ],\n",
       "        [6.1, 2.9, 4.7, 1.4],\n",
       "        [5.6, 2.9, 3.6, 1.3],\n",
       "        [6.7, 3.1, 4.4, 1.4],\n",
       "        [5.6, 3. , 4.5, 1.5],\n",
       "        [5.8, 2.7, 4.1, 1. ],\n",
       "        [6.2, 2.2, 4.5, 1.5],\n",
       "        [5.6, 2.5, 3.9, 1.1],\n",
       "        [5.9, 3.2, 4.8, 1.8],\n",
       "        [6.1, 2.8, 4. , 1.3],\n",
       "        [6.3, 2.5, 4.9, 1.5],\n",
       "        [6.1, 2.8, 4.7, 1.2],\n",
       "        [6.4, 2.9, 4.3, 1.3],\n",
       "        [6.6, 3. , 4.4, 1.4],\n",
       "        [6.8, 2.8, 4.8, 1.4],\n",
       "        [6.7, 3. , 5. , 1.7],\n",
       "        [6. , 2.9, 4.5, 1.5],\n",
       "        [5.7, 2.6, 3.5, 1. ],\n",
       "        [5.5, 2.4, 3.8, 1.1],\n",
       "        [5.5, 2.4, 3.7, 1. ],\n",
       "        [5.8, 2.7, 3.9, 1.2],\n",
       "        [6. , 2.7, 5.1, 1.6],\n",
       "        [5.4, 3. , 4.5, 1.5],\n",
       "        [6. , 3.4, 4.5, 1.6],\n",
       "        [6.7, 3.1, 4.7, 1.5],\n",
       "        [6.3, 2.3, 4.4, 1.3],\n",
       "        [5.6, 3. , 4.1, 1.3],\n",
       "        [5.5, 2.5, 4. , 1.3],\n",
       "        [5.5, 2.6, 4.4, 1.2],\n",
       "        [6.1, 3. , 4.6, 1.4],\n",
       "        [5.8, 2.6, 4. , 1.2],\n",
       "        [5. , 2.3, 3.3, 1. ],\n",
       "        [5.6, 2.7, 4.2, 1.3],\n",
       "        [5.7, 3. , 4.2, 1.2],\n",
       "        [5.7, 2.9, 4.2, 1.3],\n",
       "        [6.2, 2.9, 4.3, 1.3],\n",
       "        [5.1, 2.5, 3. , 1.1],\n",
       "        [5.7, 2.8, 4.1, 1.3],\n",
       "        [6.3, 3.3, 6. , 2.5],\n",
       "        [5.8, 2.7, 5.1, 1.9],\n",
       "        [7.1, 3. , 5.9, 2.1],\n",
       "        [6.3, 2.9, 5.6, 1.8],\n",
       "        [6.5, 3. , 5.8, 2.2],\n",
       "        [7.6, 3. , 6.6, 2.1],\n",
       "        [4.9, 2.5, 4.5, 1.7],\n",
       "        [7.3, 2.9, 6.3, 1.8],\n",
       "        [6.7, 2.5, 5.8, 1.8],\n",
       "        [7.2, 3.6, 6.1, 2.5],\n",
       "        [6.5, 3.2, 5.1, 2. ],\n",
       "        [6.4, 2.7, 5.3, 1.9],\n",
       "        [6.8, 3. , 5.5, 2.1],\n",
       "        [5.7, 2.5, 5. , 2. ],\n",
       "        [5.8, 2.8, 5.1, 2.4],\n",
       "        [6.4, 3.2, 5.3, 2.3],\n",
       "        [6.5, 3. , 5.5, 1.8],\n",
       "        [7.7, 3.8, 6.7, 2.2],\n",
       "        [7.7, 2.6, 6.9, 2.3],\n",
       "        [6. , 2.2, 5. , 1.5],\n",
       "        [6.9, 3.2, 5.7, 2.3],\n",
       "        [5.6, 2.8, 4.9, 2. ],\n",
       "        [7.7, 2.8, 6.7, 2. ],\n",
       "        [6.3, 2.7, 4.9, 1.8],\n",
       "        [6.7, 3.3, 5.7, 2.1],\n",
       "        [7.2, 3.2, 6. , 1.8],\n",
       "        [6.2, 2.8, 4.8, 1.8],\n",
       "        [6.1, 3. , 4.9, 1.8],\n",
       "        [6.4, 2.8, 5.6, 2.1],\n",
       "        [7.2, 3. , 5.8, 1.6],\n",
       "        [7.4, 2.8, 6.1, 1.9],\n",
       "        [7.9, 3.8, 6.4, 2. ],\n",
       "        [6.4, 2.8, 5.6, 2.2],\n",
       "        [6.3, 2.8, 5.1, 1.5],\n",
       "        [6.1, 2.6, 5.6, 1.4],\n",
       "        [7.7, 3. , 6.1, 2.3],\n",
       "        [6.3, 3.4, 5.6, 2.4],\n",
       "        [6.4, 3.1, 5.5, 1.8],\n",
       "        [6. , 3. , 4.8, 1.8],\n",
       "        [6.9, 3.1, 5.4, 2.1],\n",
       "        [6.7, 3.1, 5.6, 2.4],\n",
       "        [6.9, 3.1, 5.1, 2.3],\n",
       "        [5.8, 2.7, 5.1, 1.9],\n",
       "        [6.8, 3.2, 5.9, 2.3],\n",
       "        [6.7, 3.3, 5.7, 2.5],\n",
       "        [6.7, 3. , 5.2, 2.3],\n",
       "        [6.3, 2.5, 5. , 1.9],\n",
       "        [6.5, 3. , 5.2, 2. ],\n",
       "        [6.2, 3.4, 5.4, 2.3],\n",
       "        [5.9, 3. , 5.1, 1.8]]),\n",
       " 'target': array([0, 0, 0, 0, 0, 0, 0, 0, 0, 0, 0, 0, 0, 0, 0, 0, 0, 0, 0, 0, 0, 0,\n",
       "        0, 0, 0, 0, 0, 0, 0, 0, 0, 0, 0, 0, 0, 0, 0, 0, 0, 0, 0, 0, 0, 0,\n",
       "        0, 0, 0, 0, 0, 0, 1, 1, 1, 1, 1, 1, 1, 1, 1, 1, 1, 1, 1, 1, 1, 1,\n",
       "        1, 1, 1, 1, 1, 1, 1, 1, 1, 1, 1, 1, 1, 1, 1, 1, 1, 1, 1, 1, 1, 1,\n",
       "        1, 1, 1, 1, 1, 1, 1, 1, 1, 1, 1, 1, 2, 2, 2, 2, 2, 2, 2, 2, 2, 2,\n",
       "        2, 2, 2, 2, 2, 2, 2, 2, 2, 2, 2, 2, 2, 2, 2, 2, 2, 2, 2, 2, 2, 2,\n",
       "        2, 2, 2, 2, 2, 2, 2, 2, 2, 2, 2, 2, 2, 2, 2, 2, 2, 2]),\n",
       " 'frame': None,\n",
       " 'target_names': array(['setosa', 'versicolor', 'virginica'], dtype='<U10'),\n",
       " 'DESCR': '.. _iris_dataset:\\n\\nIris plants dataset\\n--------------------\\n\\n**Data Set Characteristics:**\\n\\n    :Number of Instances: 150 (50 in each of three classes)\\n    :Number of Attributes: 4 numeric, predictive attributes and the class\\n    :Attribute Information:\\n        - sepal length in cm\\n        - sepal width in cm\\n        - petal length in cm\\n        - petal width in cm\\n        - class:\\n                - Iris-Setosa\\n                - Iris-Versicolour\\n                - Iris-Virginica\\n                \\n    :Summary Statistics:\\n\\n    ============== ==== ==== ======= ===== ====================\\n                    Min  Max   Mean    SD   Class Correlation\\n    ============== ==== ==== ======= ===== ====================\\n    sepal length:   4.3  7.9   5.84   0.83    0.7826\\n    sepal width:    2.0  4.4   3.05   0.43   -0.4194\\n    petal length:   1.0  6.9   3.76   1.76    0.9490  (high!)\\n    petal width:    0.1  2.5   1.20   0.76    0.9565  (high!)\\n    ============== ==== ==== ======= ===== ====================\\n\\n    :Missing Attribute Values: None\\n    :Class Distribution: 33.3% for each of 3 classes.\\n    :Creator: R.A. Fisher\\n    :Donor: Michael Marshall (MARSHALL%PLU@io.arc.nasa.gov)\\n    :Date: July, 1988\\n\\nThe famous Iris database, first used by Sir R.A. Fisher. The dataset is taken\\nfrom Fisher\\'s paper. Note that it\\'s the same as in R, but not as in the UCI\\nMachine Learning Repository, which has two wrong data points.\\n\\nThis is perhaps the best known database to be found in the\\npattern recognition literature.  Fisher\\'s paper is a classic in the field and\\nis referenced frequently to this day.  (See Duda & Hart, for example.)  The\\ndata set contains 3 classes of 50 instances each, where each class refers to a\\ntype of iris plant.  One class is linearly separable from the other 2; the\\nlatter are NOT linearly separable from each other.\\n\\n.. topic:: References\\n\\n   - Fisher, R.A. \"The use of multiple measurements in taxonomic problems\"\\n     Annual Eugenics, 7, Part II, 179-188 (1936); also in \"Contributions to\\n     Mathematical Statistics\" (John Wiley, NY, 1950).\\n   - Duda, R.O., & Hart, P.E. (1973) Pattern Classification and Scene Analysis.\\n     (Q327.D83) John Wiley & Sons.  ISBN 0-471-22361-1.  See page 218.\\n   - Dasarathy, B.V. (1980) \"Nosing Around the Neighborhood: A New System\\n     Structure and Classification Rule for Recognition in Partially Exposed\\n     Environments\".  IEEE Transactions on Pattern Analysis and Machine\\n     Intelligence, Vol. PAMI-2, No. 1, 67-71.\\n   - Gates, G.W. (1972) \"The Reduced Nearest Neighbor Rule\".  IEEE Transactions\\n     on Information Theory, May 1972, 431-433.\\n   - See also: 1988 MLC Proceedings, 54-64.  Cheeseman et al\"s AUTOCLASS II\\n     conceptual clustering system finds 3 classes in the data.\\n   - Many, many more ...',\n",
       " 'feature_names': ['sepal length (cm)',\n",
       "  'sepal width (cm)',\n",
       "  'petal length (cm)',\n",
       "  'petal width (cm)'],\n",
       " 'filename': 'iris.csv',\n",
       " 'data_module': 'sklearn.datasets.data'}"
      ]
     },
     "execution_count": 15,
     "metadata": {},
     "output_type": "execute_result"
    }
   ],
   "source": [
    "from sklearn.datasets import load_iris\n",
    "iris = load_iris()\n",
    "iris"
   ]
  },
  {
   "cell_type": "code",
   "execution_count": 16,
   "metadata": {},
   "outputs": [
    {
     "data": {
      "text/html": [
       "<div>\n",
       "<style scoped>\n",
       "    .dataframe tbody tr th:only-of-type {\n",
       "        vertical-align: middle;\n",
       "    }\n",
       "\n",
       "    .dataframe tbody tr th {\n",
       "        vertical-align: top;\n",
       "    }\n",
       "\n",
       "    .dataframe thead th {\n",
       "        text-align: right;\n",
       "    }\n",
       "</style>\n",
       "<table border=\"1\" class=\"dataframe\">\n",
       "  <thead>\n",
       "    <tr style=\"text-align: right;\">\n",
       "      <th></th>\n",
       "      <th>sepal length (cm)</th>\n",
       "      <th>sepal width (cm)</th>\n",
       "      <th>petal length (cm)</th>\n",
       "      <th>petal width (cm)</th>\n",
       "      <th>target</th>\n",
       "    </tr>\n",
       "  </thead>\n",
       "  <tbody>\n",
       "    <tr>\n",
       "      <th>0</th>\n",
       "      <td>5.1</td>\n",
       "      <td>3.5</td>\n",
       "      <td>1.4</td>\n",
       "      <td>0.2</td>\n",
       "      <td>0.0</td>\n",
       "    </tr>\n",
       "    <tr>\n",
       "      <th>1</th>\n",
       "      <td>4.9</td>\n",
       "      <td>3.0</td>\n",
       "      <td>1.4</td>\n",
       "      <td>0.2</td>\n",
       "      <td>0.0</td>\n",
       "    </tr>\n",
       "    <tr>\n",
       "      <th>2</th>\n",
       "      <td>4.7</td>\n",
       "      <td>3.2</td>\n",
       "      <td>1.3</td>\n",
       "      <td>0.2</td>\n",
       "      <td>0.0</td>\n",
       "    </tr>\n",
       "    <tr>\n",
       "      <th>3</th>\n",
       "      <td>4.6</td>\n",
       "      <td>3.1</td>\n",
       "      <td>1.5</td>\n",
       "      <td>0.2</td>\n",
       "      <td>0.0</td>\n",
       "    </tr>\n",
       "    <tr>\n",
       "      <th>4</th>\n",
       "      <td>5.0</td>\n",
       "      <td>3.6</td>\n",
       "      <td>1.4</td>\n",
       "      <td>0.2</td>\n",
       "      <td>0.0</td>\n",
       "    </tr>\n",
       "  </tbody>\n",
       "</table>\n",
       "</div>"
      ],
      "text/plain": [
       "   sepal length (cm)  sepal width (cm)  petal length (cm)  petal width (cm)  \\\n",
       "0                5.1               3.5                1.4               0.2   \n",
       "1                4.9               3.0                1.4               0.2   \n",
       "2                4.7               3.2                1.3               0.2   \n",
       "3                4.6               3.1                1.5               0.2   \n",
       "4                5.0               3.6                1.4               0.2   \n",
       "\n",
       "   target  \n",
       "0     0.0  \n",
       "1     0.0  \n",
       "2     0.0  \n",
       "3     0.0  \n",
       "4     0.0  "
      ]
     },
     "execution_count": 16,
     "metadata": {},
     "output_type": "execute_result"
    }
   ],
   "source": [
    "iris_df = pd.DataFrame(data=np.c_[iris['data'], iris['target']], columns=iris['feature_names']+['target'])\n",
    "iris_df.head()"
   ]
  },
  {
   "cell_type": "code",
   "execution_count": 17,
   "metadata": {},
   "outputs": [
    {
     "data": {
      "text/plain": [
       "array([0., 1., 2.])"
      ]
     },
     "execution_count": 17,
     "metadata": {},
     "output_type": "execute_result"
    }
   ],
   "source": [
    "iris_df['target'].unique()"
   ]
  },
  {
   "cell_type": "code",
   "execution_count": 18,
   "metadata": {},
   "outputs": [
    {
     "name": "stdout",
     "output_type": "stream",
     "text": [
      "     sepal length (cm)  sepal width (cm)  petal length (cm)  petal width (cm)\n",
      "0                  5.1               3.5                1.4               0.2\n",
      "1                  4.9               3.0                1.4               0.2\n",
      "2                  4.7               3.2                1.3               0.2\n",
      "3                  4.6               3.1                1.5               0.2\n",
      "4                  5.0               3.6                1.4               0.2\n",
      "..                 ...               ...                ...               ...\n",
      "145                6.7               3.0                5.2               2.3\n",
      "146                6.3               2.5                5.0               1.9\n",
      "147                6.5               3.0                5.2               2.0\n",
      "148                6.2               3.4                5.4               2.3\n",
      "149                5.9               3.0                5.1               1.8\n",
      "\n",
      "[150 rows x 4 columns]\n",
      "0      0.0\n",
      "1      0.0\n",
      "2      0.0\n",
      "3      0.0\n",
      "4      0.0\n",
      "      ... \n",
      "145    2.0\n",
      "146    2.0\n",
      "147    2.0\n",
      "148    2.0\n",
      "149    2.0\n",
      "Name: target, Length: 150, dtype: float64\n"
     ]
    }
   ],
   "source": [
    "X = iris_df.drop('target', axis=1)\n",
    "Y = iris_df.iloc[:,4]\n",
    "print(X)\n",
    "print(Y)"
   ]
  },
  {
   "cell_type": "code",
   "execution_count": 19,
   "metadata": {},
   "outputs": [],
   "source": [
    "from sklearn.model_selection import train_test_split\n",
    "\n",
    "X_train, X_test, Y_train, Y_test = train_test_split(X, Y, test_size=0.3, random_state=22)"
   ]
  },
  {
   "cell_type": "code",
   "execution_count": 20,
   "metadata": {},
   "outputs": [],
   "source": [
    "X_train = np.array(X_train)\n",
    "Y_train = np.array(Y_train)\n",
    "X_test = np.array(X_test)\n",
    "Y_test = np.array(Y_test)"
   ]
  },
  {
   "cell_type": "markdown",
   "metadata": {},
   "source": [
    "(i) Step by step implementation"
   ]
  },
  {
   "cell_type": "code",
   "execution_count": 21,
   "metadata": {},
   "outputs": [
    {
     "data": {
      "text/plain": [
       "array([0., 1., 2.])"
      ]
     },
     "execution_count": 21,
     "metadata": {},
     "output_type": "execute_result"
    }
   ],
   "source": [
    "np.unique(Y_train)"
   ]
  },
  {
   "cell_type": "code",
   "execution_count": 22,
   "metadata": {},
   "outputs": [
    {
     "name": "stdout",
     "output_type": "stream",
     "text": [
      "{0.0: 0.3523809523809524, 1.0: 0.3238095238095238, 2.0: 0.3238095238095238}\n"
     ]
    }
   ],
   "source": [
    "train_size = X_train.shape[0]\n",
    "class_priors = {}\n",
    "for outcome in np.unique(Y_train):\n",
    "    outcome_count = sum(Y_train == outcome)\n",
    "    class_priors[outcome] = outcome_count/train_size\n",
    "print(class_priors)"
   ]
  },
  {
   "cell_type": "code",
   "execution_count": 23,
   "metadata": {},
   "outputs": [
    {
     "data": {
      "text/plain": [
       "array([5. , 3.6, 1.4, 0.2])"
      ]
     },
     "execution_count": 23,
     "metadata": {},
     "output_type": "execute_result"
    }
   ],
   "source": [
    "classes = np.unique(Y_train)\n",
    "classes_index = {}\n",
    "subdataset = {}\n",
    "for class_type in classes:\n",
    "    index = []\n",
    "    for i in range(len(Y_train)):\n",
    "        if Y_train[i] == class_type:\n",
    "            index.append(i)\n",
    "    subdataset[class_type] = X_train[index, :]\n",
    "subdataset[0][0]\n"
   ]
  },
  {
   "cell_type": "code",
   "execution_count": 24,
   "metadata": {},
   "outputs": [
    {
     "data": {
      "text/plain": [
       "{0.0: array([4.98918919, 3.41891892, 1.47027027, 0.23783784]),\n",
       " 1.0: array([5.87941176, 2.72941176, 4.20294118, 1.31176471]),\n",
       " 2.0: array([6.54117647, 2.96764706, 5.59705882, 2.04411765])}"
      ]
     },
     "execution_count": 24,
     "metadata": {},
     "output_type": "execute_result"
    }
   ],
   "source": [
    "mean = {}\n",
    "for class_type in classes:\n",
    "    mean[class_type] = np.mean(subdataset[class_type], axis=0)\n",
    "mean\n",
    "    "
   ]
  },
  {
   "cell_type": "code",
   "execution_count": 25,
   "metadata": {},
   "outputs": [
    {
     "data": {
      "text/plain": [
       "{0.0: array([0.36151616, 0.41253196, 0.18138337, 0.09109351]),\n",
       " 1.0: array([0.50221826, 0.33565512, 0.49018922, 0.2111101 ]),\n",
       " 2.0: array([0.65758813, 0.27623582, 0.56904734, 0.27460258])}"
      ]
     },
     "execution_count": 25,
     "metadata": {},
     "output_type": "execute_result"
    }
   ],
   "source": [
    "stdv = {}\n",
    "for class_type in classes:\n",
    "    stdv[class_type] = np.std(subdataset[class_type], axis=0)\n",
    "stdv"
   ]
  },
  {
   "cell_type": "code",
   "execution_count": 26,
   "metadata": {},
   "outputs": [],
   "source": [
    "def calc_prob(X):\n",
    "    prob = {}\n",
    "    for class_type in classes:\n",
    "        sum = 0\n",
    "        for i in range(len(X)):\n",
    "            sum += (-0.5*(math.log((2*math.pi)*math.pow((stdv[class_type][i]),2)))) - (math.pow((X[i] - mean[class_type][i]), 2))/(2*math.pow((stdv[class_type][i]),2))\n",
    "        prob[class_type] = math.log(class_priors[class_type]) + sum\n",
    "    return prob\n"
   ]
  },
  {
   "cell_type": "code",
   "execution_count": 27,
   "metadata": {},
   "outputs": [],
   "source": [
    "Y_pred_s = np.zeros(Y_test.shape[0])\n",
    "for i in range(len(X_test)):\n",
    "    pred_class = None\n",
    "    max_prob = -100000\n",
    "    prob = calc_prob(X_test[i])\n",
    "    for key, value in prob.items():\n",
    "        if value > max_prob:\n",
    "            max_prob = value\n",
    "            pred_class = key\n",
    "    Y_pred_s[i] = pred_class\n"
   ]
  },
  {
   "cell_type": "markdown",
   "metadata": {},
   "source": [
    "(ii) Inbuilt method"
   ]
  },
  {
   "cell_type": "code",
   "execution_count": 28,
   "metadata": {},
   "outputs": [],
   "source": [
    "from sklearn.naive_bayes import GaussianNB\n",
    "gnb = GaussianNB()\n",
    "gnb.fit(X_train,Y_train)\n",
    "Y_pred_i = gnb.predict(X_test)"
   ]
  },
  {
   "cell_type": "code",
   "execution_count": 29,
   "metadata": {},
   "outputs": [
    {
     "name": "stdout",
     "output_type": "stream",
     "text": [
      "Confusion matrix for Step by step implementation:\n",
      " [[13  0  0]\n",
      " [ 0 15  1]\n",
      " [ 0  1 15]]\n",
      "Confusion matrix for Inbuilt method:\n",
      " [[13  0  0]\n",
      " [ 0 15  1]\n",
      " [ 0  1 15]]\n"
     ]
    }
   ],
   "source": [
    "from sklearn.metrics import confusion_matrix\n",
    "cm_s = confusion_matrix(Y_test, Y_pred_s)\n",
    "cm_i = confusion_matrix(Y_test, Y_pred_i)\n",
    "print(f'Confusion matrix for Step by step implementation:\\n {cm_s}')\n",
    "print(f'Confusion matrix for Inbuilt method:\\n {cm_i}')\n"
   ]
  },
  {
   "cell_type": "markdown",
   "metadata": {},
   "source": [
    "# Question 3"
   ]
  },
  {
   "cell_type": "code",
   "execution_count": 30,
   "metadata": {},
   "outputs": [
    {
     "data": {
      "text/plain": [
       "{'data': array([[5.1, 3.5, 1.4, 0.2],\n",
       "        [4.9, 3. , 1.4, 0.2],\n",
       "        [4.7, 3.2, 1.3, 0.2],\n",
       "        [4.6, 3.1, 1.5, 0.2],\n",
       "        [5. , 3.6, 1.4, 0.2],\n",
       "        [5.4, 3.9, 1.7, 0.4],\n",
       "        [4.6, 3.4, 1.4, 0.3],\n",
       "        [5. , 3.4, 1.5, 0.2],\n",
       "        [4.4, 2.9, 1.4, 0.2],\n",
       "        [4.9, 3.1, 1.5, 0.1],\n",
       "        [5.4, 3.7, 1.5, 0.2],\n",
       "        [4.8, 3.4, 1.6, 0.2],\n",
       "        [4.8, 3. , 1.4, 0.1],\n",
       "        [4.3, 3. , 1.1, 0.1],\n",
       "        [5.8, 4. , 1.2, 0.2],\n",
       "        [5.7, 4.4, 1.5, 0.4],\n",
       "        [5.4, 3.9, 1.3, 0.4],\n",
       "        [5.1, 3.5, 1.4, 0.3],\n",
       "        [5.7, 3.8, 1.7, 0.3],\n",
       "        [5.1, 3.8, 1.5, 0.3],\n",
       "        [5.4, 3.4, 1.7, 0.2],\n",
       "        [5.1, 3.7, 1.5, 0.4],\n",
       "        [4.6, 3.6, 1. , 0.2],\n",
       "        [5.1, 3.3, 1.7, 0.5],\n",
       "        [4.8, 3.4, 1.9, 0.2],\n",
       "        [5. , 3. , 1.6, 0.2],\n",
       "        [5. , 3.4, 1.6, 0.4],\n",
       "        [5.2, 3.5, 1.5, 0.2],\n",
       "        [5.2, 3.4, 1.4, 0.2],\n",
       "        [4.7, 3.2, 1.6, 0.2],\n",
       "        [4.8, 3.1, 1.6, 0.2],\n",
       "        [5.4, 3.4, 1.5, 0.4],\n",
       "        [5.2, 4.1, 1.5, 0.1],\n",
       "        [5.5, 4.2, 1.4, 0.2],\n",
       "        [4.9, 3.1, 1.5, 0.2],\n",
       "        [5. , 3.2, 1.2, 0.2],\n",
       "        [5.5, 3.5, 1.3, 0.2],\n",
       "        [4.9, 3.6, 1.4, 0.1],\n",
       "        [4.4, 3. , 1.3, 0.2],\n",
       "        [5.1, 3.4, 1.5, 0.2],\n",
       "        [5. , 3.5, 1.3, 0.3],\n",
       "        [4.5, 2.3, 1.3, 0.3],\n",
       "        [4.4, 3.2, 1.3, 0.2],\n",
       "        [5. , 3.5, 1.6, 0.6],\n",
       "        [5.1, 3.8, 1.9, 0.4],\n",
       "        [4.8, 3. , 1.4, 0.3],\n",
       "        [5.1, 3.8, 1.6, 0.2],\n",
       "        [4.6, 3.2, 1.4, 0.2],\n",
       "        [5.3, 3.7, 1.5, 0.2],\n",
       "        [5. , 3.3, 1.4, 0.2],\n",
       "        [7. , 3.2, 4.7, 1.4],\n",
       "        [6.4, 3.2, 4.5, 1.5],\n",
       "        [6.9, 3.1, 4.9, 1.5],\n",
       "        [5.5, 2.3, 4. , 1.3],\n",
       "        [6.5, 2.8, 4.6, 1.5],\n",
       "        [5.7, 2.8, 4.5, 1.3],\n",
       "        [6.3, 3.3, 4.7, 1.6],\n",
       "        [4.9, 2.4, 3.3, 1. ],\n",
       "        [6.6, 2.9, 4.6, 1.3],\n",
       "        [5.2, 2.7, 3.9, 1.4],\n",
       "        [5. , 2. , 3.5, 1. ],\n",
       "        [5.9, 3. , 4.2, 1.5],\n",
       "        [6. , 2.2, 4. , 1. ],\n",
       "        [6.1, 2.9, 4.7, 1.4],\n",
       "        [5.6, 2.9, 3.6, 1.3],\n",
       "        [6.7, 3.1, 4.4, 1.4],\n",
       "        [5.6, 3. , 4.5, 1.5],\n",
       "        [5.8, 2.7, 4.1, 1. ],\n",
       "        [6.2, 2.2, 4.5, 1.5],\n",
       "        [5.6, 2.5, 3.9, 1.1],\n",
       "        [5.9, 3.2, 4.8, 1.8],\n",
       "        [6.1, 2.8, 4. , 1.3],\n",
       "        [6.3, 2.5, 4.9, 1.5],\n",
       "        [6.1, 2.8, 4.7, 1.2],\n",
       "        [6.4, 2.9, 4.3, 1.3],\n",
       "        [6.6, 3. , 4.4, 1.4],\n",
       "        [6.8, 2.8, 4.8, 1.4],\n",
       "        [6.7, 3. , 5. , 1.7],\n",
       "        [6. , 2.9, 4.5, 1.5],\n",
       "        [5.7, 2.6, 3.5, 1. ],\n",
       "        [5.5, 2.4, 3.8, 1.1],\n",
       "        [5.5, 2.4, 3.7, 1. ],\n",
       "        [5.8, 2.7, 3.9, 1.2],\n",
       "        [6. , 2.7, 5.1, 1.6],\n",
       "        [5.4, 3. , 4.5, 1.5],\n",
       "        [6. , 3.4, 4.5, 1.6],\n",
       "        [6.7, 3.1, 4.7, 1.5],\n",
       "        [6.3, 2.3, 4.4, 1.3],\n",
       "        [5.6, 3. , 4.1, 1.3],\n",
       "        [5.5, 2.5, 4. , 1.3],\n",
       "        [5.5, 2.6, 4.4, 1.2],\n",
       "        [6.1, 3. , 4.6, 1.4],\n",
       "        [5.8, 2.6, 4. , 1.2],\n",
       "        [5. , 2.3, 3.3, 1. ],\n",
       "        [5.6, 2.7, 4.2, 1.3],\n",
       "        [5.7, 3. , 4.2, 1.2],\n",
       "        [5.7, 2.9, 4.2, 1.3],\n",
       "        [6.2, 2.9, 4.3, 1.3],\n",
       "        [5.1, 2.5, 3. , 1.1],\n",
       "        [5.7, 2.8, 4.1, 1.3],\n",
       "        [6.3, 3.3, 6. , 2.5],\n",
       "        [5.8, 2.7, 5.1, 1.9],\n",
       "        [7.1, 3. , 5.9, 2.1],\n",
       "        [6.3, 2.9, 5.6, 1.8],\n",
       "        [6.5, 3. , 5.8, 2.2],\n",
       "        [7.6, 3. , 6.6, 2.1],\n",
       "        [4.9, 2.5, 4.5, 1.7],\n",
       "        [7.3, 2.9, 6.3, 1.8],\n",
       "        [6.7, 2.5, 5.8, 1.8],\n",
       "        [7.2, 3.6, 6.1, 2.5],\n",
       "        [6.5, 3.2, 5.1, 2. ],\n",
       "        [6.4, 2.7, 5.3, 1.9],\n",
       "        [6.8, 3. , 5.5, 2.1],\n",
       "        [5.7, 2.5, 5. , 2. ],\n",
       "        [5.8, 2.8, 5.1, 2.4],\n",
       "        [6.4, 3.2, 5.3, 2.3],\n",
       "        [6.5, 3. , 5.5, 1.8],\n",
       "        [7.7, 3.8, 6.7, 2.2],\n",
       "        [7.7, 2.6, 6.9, 2.3],\n",
       "        [6. , 2.2, 5. , 1.5],\n",
       "        [6.9, 3.2, 5.7, 2.3],\n",
       "        [5.6, 2.8, 4.9, 2. ],\n",
       "        [7.7, 2.8, 6.7, 2. ],\n",
       "        [6.3, 2.7, 4.9, 1.8],\n",
       "        [6.7, 3.3, 5.7, 2.1],\n",
       "        [7.2, 3.2, 6. , 1.8],\n",
       "        [6.2, 2.8, 4.8, 1.8],\n",
       "        [6.1, 3. , 4.9, 1.8],\n",
       "        [6.4, 2.8, 5.6, 2.1],\n",
       "        [7.2, 3. , 5.8, 1.6],\n",
       "        [7.4, 2.8, 6.1, 1.9],\n",
       "        [7.9, 3.8, 6.4, 2. ],\n",
       "        [6.4, 2.8, 5.6, 2.2],\n",
       "        [6.3, 2.8, 5.1, 1.5],\n",
       "        [6.1, 2.6, 5.6, 1.4],\n",
       "        [7.7, 3. , 6.1, 2.3],\n",
       "        [6.3, 3.4, 5.6, 2.4],\n",
       "        [6.4, 3.1, 5.5, 1.8],\n",
       "        [6. , 3. , 4.8, 1.8],\n",
       "        [6.9, 3.1, 5.4, 2.1],\n",
       "        [6.7, 3.1, 5.6, 2.4],\n",
       "        [6.9, 3.1, 5.1, 2.3],\n",
       "        [5.8, 2.7, 5.1, 1.9],\n",
       "        [6.8, 3.2, 5.9, 2.3],\n",
       "        [6.7, 3.3, 5.7, 2.5],\n",
       "        [6.7, 3. , 5.2, 2.3],\n",
       "        [6.3, 2.5, 5. , 1.9],\n",
       "        [6.5, 3. , 5.2, 2. ],\n",
       "        [6.2, 3.4, 5.4, 2.3],\n",
       "        [5.9, 3. , 5.1, 1.8]]),\n",
       " 'target': array([0, 0, 0, 0, 0, 0, 0, 0, 0, 0, 0, 0, 0, 0, 0, 0, 0, 0, 0, 0, 0, 0,\n",
       "        0, 0, 0, 0, 0, 0, 0, 0, 0, 0, 0, 0, 0, 0, 0, 0, 0, 0, 0, 0, 0, 0,\n",
       "        0, 0, 0, 0, 0, 0, 1, 1, 1, 1, 1, 1, 1, 1, 1, 1, 1, 1, 1, 1, 1, 1,\n",
       "        1, 1, 1, 1, 1, 1, 1, 1, 1, 1, 1, 1, 1, 1, 1, 1, 1, 1, 1, 1, 1, 1,\n",
       "        1, 1, 1, 1, 1, 1, 1, 1, 1, 1, 1, 1, 2, 2, 2, 2, 2, 2, 2, 2, 2, 2,\n",
       "        2, 2, 2, 2, 2, 2, 2, 2, 2, 2, 2, 2, 2, 2, 2, 2, 2, 2, 2, 2, 2, 2,\n",
       "        2, 2, 2, 2, 2, 2, 2, 2, 2, 2, 2, 2, 2, 2, 2, 2, 2, 2]),\n",
       " 'frame': None,\n",
       " 'target_names': array(['setosa', 'versicolor', 'virginica'], dtype='<U10'),\n",
       " 'DESCR': '.. _iris_dataset:\\n\\nIris plants dataset\\n--------------------\\n\\n**Data Set Characteristics:**\\n\\n    :Number of Instances: 150 (50 in each of three classes)\\n    :Number of Attributes: 4 numeric, predictive attributes and the class\\n    :Attribute Information:\\n        - sepal length in cm\\n        - sepal width in cm\\n        - petal length in cm\\n        - petal width in cm\\n        - class:\\n                - Iris-Setosa\\n                - Iris-Versicolour\\n                - Iris-Virginica\\n                \\n    :Summary Statistics:\\n\\n    ============== ==== ==== ======= ===== ====================\\n                    Min  Max   Mean    SD   Class Correlation\\n    ============== ==== ==== ======= ===== ====================\\n    sepal length:   4.3  7.9   5.84   0.83    0.7826\\n    sepal width:    2.0  4.4   3.05   0.43   -0.4194\\n    petal length:   1.0  6.9   3.76   1.76    0.9490  (high!)\\n    petal width:    0.1  2.5   1.20   0.76    0.9565  (high!)\\n    ============== ==== ==== ======= ===== ====================\\n\\n    :Missing Attribute Values: None\\n    :Class Distribution: 33.3% for each of 3 classes.\\n    :Creator: R.A. Fisher\\n    :Donor: Michael Marshall (MARSHALL%PLU@io.arc.nasa.gov)\\n    :Date: July, 1988\\n\\nThe famous Iris database, first used by Sir R.A. Fisher. The dataset is taken\\nfrom Fisher\\'s paper. Note that it\\'s the same as in R, but not as in the UCI\\nMachine Learning Repository, which has two wrong data points.\\n\\nThis is perhaps the best known database to be found in the\\npattern recognition literature.  Fisher\\'s paper is a classic in the field and\\nis referenced frequently to this day.  (See Duda & Hart, for example.)  The\\ndata set contains 3 classes of 50 instances each, where each class refers to a\\ntype of iris plant.  One class is linearly separable from the other 2; the\\nlatter are NOT linearly separable from each other.\\n\\n.. topic:: References\\n\\n   - Fisher, R.A. \"The use of multiple measurements in taxonomic problems\"\\n     Annual Eugenics, 7, Part II, 179-188 (1936); also in \"Contributions to\\n     Mathematical Statistics\" (John Wiley, NY, 1950).\\n   - Duda, R.O., & Hart, P.E. (1973) Pattern Classification and Scene Analysis.\\n     (Q327.D83) John Wiley & Sons.  ISBN 0-471-22361-1.  See page 218.\\n   - Dasarathy, B.V. (1980) \"Nosing Around the Neighborhood: A New System\\n     Structure and Classification Rule for Recognition in Partially Exposed\\n     Environments\".  IEEE Transactions on Pattern Analysis and Machine\\n     Intelligence, Vol. PAMI-2, No. 1, 67-71.\\n   - Gates, G.W. (1972) \"The Reduced Nearest Neighbor Rule\".  IEEE Transactions\\n     on Information Theory, May 1972, 431-433.\\n   - See also: 1988 MLC Proceedings, 54-64.  Cheeseman et al\"s AUTOCLASS II\\n     conceptual clustering system finds 3 classes in the data.\\n   - Many, many more ...',\n",
       " 'feature_names': ['sepal length (cm)',\n",
       "  'sepal width (cm)',\n",
       "  'petal length (cm)',\n",
       "  'petal width (cm)'],\n",
       " 'filename': 'iris.csv',\n",
       " 'data_module': 'sklearn.datasets.data'}"
      ]
     },
     "execution_count": 30,
     "metadata": {},
     "output_type": "execute_result"
    }
   ],
   "source": [
    "from sklearn.datasets import load_iris\n",
    "iris = load_iris()\n",
    "iris"
   ]
  },
  {
   "cell_type": "code",
   "execution_count": 31,
   "metadata": {},
   "outputs": [
    {
     "data": {
      "text/html": [
       "<div>\n",
       "<style scoped>\n",
       "    .dataframe tbody tr th:only-of-type {\n",
       "        vertical-align: middle;\n",
       "    }\n",
       "\n",
       "    .dataframe tbody tr th {\n",
       "        vertical-align: top;\n",
       "    }\n",
       "\n",
       "    .dataframe thead th {\n",
       "        text-align: right;\n",
       "    }\n",
       "</style>\n",
       "<table border=\"1\" class=\"dataframe\">\n",
       "  <thead>\n",
       "    <tr style=\"text-align: right;\">\n",
       "      <th></th>\n",
       "      <th>sepal length (cm)</th>\n",
       "      <th>sepal width (cm)</th>\n",
       "      <th>petal length (cm)</th>\n",
       "      <th>petal width (cm)</th>\n",
       "      <th>target</th>\n",
       "    </tr>\n",
       "  </thead>\n",
       "  <tbody>\n",
       "    <tr>\n",
       "      <th>0</th>\n",
       "      <td>5.1</td>\n",
       "      <td>3.5</td>\n",
       "      <td>1.4</td>\n",
       "      <td>0.2</td>\n",
       "      <td>0.0</td>\n",
       "    </tr>\n",
       "    <tr>\n",
       "      <th>1</th>\n",
       "      <td>4.9</td>\n",
       "      <td>3.0</td>\n",
       "      <td>1.4</td>\n",
       "      <td>0.2</td>\n",
       "      <td>0.0</td>\n",
       "    </tr>\n",
       "    <tr>\n",
       "      <th>2</th>\n",
       "      <td>4.7</td>\n",
       "      <td>3.2</td>\n",
       "      <td>1.3</td>\n",
       "      <td>0.2</td>\n",
       "      <td>0.0</td>\n",
       "    </tr>\n",
       "    <tr>\n",
       "      <th>3</th>\n",
       "      <td>4.6</td>\n",
       "      <td>3.1</td>\n",
       "      <td>1.5</td>\n",
       "      <td>0.2</td>\n",
       "      <td>0.0</td>\n",
       "    </tr>\n",
       "    <tr>\n",
       "      <th>4</th>\n",
       "      <td>5.0</td>\n",
       "      <td>3.6</td>\n",
       "      <td>1.4</td>\n",
       "      <td>0.2</td>\n",
       "      <td>0.0</td>\n",
       "    </tr>\n",
       "  </tbody>\n",
       "</table>\n",
       "</div>"
      ],
      "text/plain": [
       "   sepal length (cm)  sepal width (cm)  petal length (cm)  petal width (cm)  \\\n",
       "0                5.1               3.5                1.4               0.2   \n",
       "1                4.9               3.0                1.4               0.2   \n",
       "2                4.7               3.2                1.3               0.2   \n",
       "3                4.6               3.1                1.5               0.2   \n",
       "4                5.0               3.6                1.4               0.2   \n",
       "\n",
       "   target  \n",
       "0     0.0  \n",
       "1     0.0  \n",
       "2     0.0  \n",
       "3     0.0  \n",
       "4     0.0  "
      ]
     },
     "execution_count": 31,
     "metadata": {},
     "output_type": "execute_result"
    }
   ],
   "source": [
    "iris_df = pd.DataFrame(data=np.c_[iris['data'], iris['target']], columns=iris['feature_names']+['target'])\n",
    "iris_df.head()"
   ]
  },
  {
   "cell_type": "code",
   "execution_count": 32,
   "metadata": {},
   "outputs": [
    {
     "data": {
      "text/plain": [
       "array([0., 1., 2.])"
      ]
     },
     "execution_count": 32,
     "metadata": {},
     "output_type": "execute_result"
    }
   ],
   "source": [
    "iris_df['target'].unique()"
   ]
  },
  {
   "cell_type": "code",
   "execution_count": 33,
   "metadata": {},
   "outputs": [
    {
     "name": "stdout",
     "output_type": "stream",
     "text": [
      "     sepal length (cm)  sepal width (cm)  petal length (cm)  petal width (cm)\n",
      "0                  5.1               3.5                1.4               0.2\n",
      "1                  4.9               3.0                1.4               0.2\n",
      "2                  4.7               3.2                1.3               0.2\n",
      "3                  4.6               3.1                1.5               0.2\n",
      "4                  5.0               3.6                1.4               0.2\n",
      "..                 ...               ...                ...               ...\n",
      "145                6.7               3.0                5.2               2.3\n",
      "146                6.3               2.5                5.0               1.9\n",
      "147                6.5               3.0                5.2               2.0\n",
      "148                6.2               3.4                5.4               2.3\n",
      "149                5.9               3.0                5.1               1.8\n",
      "\n",
      "[150 rows x 4 columns]\n",
      "0      0.0\n",
      "1      0.0\n",
      "2      0.0\n",
      "3      0.0\n",
      "4      0.0\n",
      "      ... \n",
      "145    2.0\n",
      "146    2.0\n",
      "147    2.0\n",
      "148    2.0\n",
      "149    2.0\n",
      "Name: target, Length: 150, dtype: float64\n"
     ]
    }
   ],
   "source": [
    "X = iris_df.drop('target', axis=1)\n",
    "Y = iris_df.iloc[:,4]\n",
    "print(X)\n",
    "print(Y)"
   ]
  },
  {
   "cell_type": "code",
   "execution_count": 34,
   "metadata": {},
   "outputs": [],
   "source": [
    "from sklearn.model_selection import train_test_split\n",
    "\n",
    "X_train, X_test, Y_train, Y_test = train_test_split(X, Y, test_size=0.3, random_state=22)"
   ]
  },
  {
   "cell_type": "code",
   "execution_count": 35,
   "metadata": {},
   "outputs": [
    {
     "name": "stdout",
     "output_type": "stream",
     "text": [
      "Best parameters: {'n_neighbors': 8}\n",
      "Accuracy for taining dataset with tuning: 98.00000000000001\n"
     ]
    }
   ],
   "source": [
    "from sklearn.neighbors import KNeighborsClassifier\n",
    "from sklearn.model_selection import GridSearchCV\n",
    "knn = KNeighborsClassifier()\n",
    "k_range = list(range(1, 20))\n",
    "param_grid = dict(n_neighbors = k_range)\n",
    "\n",
    "grid = GridSearchCV(knn, param_grid, cv=10, scoring='accuracy', return_train_score=False)\n",
    "\n",
    "grid_search = grid.fit(X_train, Y_train)\n",
    "print(f'Best parameters: {grid_search.best_params_}')\n",
    "print(f'Accuracy for taining dataset with tuning: {grid_search.best_score_*100}')"
   ]
  },
  {
   "cell_type": "code",
   "execution_count": 36,
   "metadata": {},
   "outputs": [
    {
     "name": "stdout",
     "output_type": "stream",
     "text": [
      "Accuracy: 91.11111111111111\n"
     ]
    }
   ],
   "source": [
    "from sklearn.metrics import accuracy_score\n",
    "knn = KNeighborsClassifier(n_neighbors=8)\n",
    "knn.fit(X_train, Y_train)\n",
    "\n",
    "Y_pred = knn.predict(X_test)\n",
    "\n",
    "print(f'Accuracy: {accuracy_score(Y_test, Y_pred)*100}')"
   ]
  },
  {
   "cell_type": "code",
   "execution_count": null,
   "metadata": {},
   "outputs": [],
   "source": []
  }
 ],
 "metadata": {
  "kernelspec": {
   "display_name": "Python 3.9.12 ('base')",
   "language": "python",
   "name": "python3"
  },
  "language_info": {
   "codemirror_mode": {
    "name": "ipython",
    "version": 3
   },
   "file_extension": ".py",
   "mimetype": "text/x-python",
   "name": "python",
   "nbconvert_exporter": "python",
   "pygments_lexer": "ipython3",
   "version": "3.9.12"
  },
  "orig_nbformat": 4,
  "vscode": {
   "interpreter": {
    "hash": "f3a52463084db90f96d29dcfcfd9bf276dba3c521d76c4c38c835392b64a093b"
   }
  }
 },
 "nbformat": 4,
 "nbformat_minor": 2
}
